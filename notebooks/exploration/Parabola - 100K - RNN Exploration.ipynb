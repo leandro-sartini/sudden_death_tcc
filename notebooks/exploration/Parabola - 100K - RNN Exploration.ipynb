{
 "cells": [
  {
   "cell_type": "code",
   "execution_count": 1,
   "metadata": {},
   "outputs": [
    {
     "name": "stdout",
     "output_type": "stream",
     "text": [
      "Collecting tensorflow\n",
      "  Downloading tensorflow-2.3.0-cp36-cp36m-manylinux2010_x86_64.whl (320.4 MB)\n",
      "\u001b[K     |███████████████████████████▌    | 275.1 MB 114.9 MB/s eta 0:00:01"
     ]
    },
    {
     "name": "stderr",
     "output_type": "stream",
     "text": [
      "IOPub data rate exceeded.\n",
      "The notebook server will temporarily stop sending output\n",
      "to the client in order to avoid crashing it.\n",
      "To change this limit, set the config variable\n",
      "`--NotebookApp.iopub_data_rate_limit`.\n",
      "\n",
      "Current values:\n",
      "NotebookApp.iopub_data_rate_limit=1000000.0 (bytes/sec)\n",
      "NotebookApp.rate_limit_window=3.0 (secs)\n",
      "\n"
     ]
    },
    {
     "name": "stdout",
     "output_type": "stream",
     "text": [
      "\u001b[K     |████████████████████████████████| 320.4 MB 40 kB/s \n",
      "\u001b[?25hCollecting opt-einsum>=2.3.2\n",
      "  Downloading opt_einsum-3.3.0-py3-none-any.whl (65 kB)\n",
      "\u001b[K     |████████████████████████████████| 65 kB 8.5 MB/s  eta 0:00:01\n",
      "\u001b[?25hRequirement already satisfied: protobuf>=3.9.2 in /home/ec2-user/anaconda3/envs/python3/lib/python3.6/site-packages (from tensorflow) (3.12.2)\n",
      "Collecting astunparse==1.6.3\n",
      "  Downloading astunparse-1.6.3-py2.py3-none-any.whl (12 kB)\n",
      "Collecting grpcio>=1.8.6\n",
      "  Downloading grpcio-1.31.0-cp36-cp36m-manylinux2014_x86_64.whl (3.4 MB)\n",
      "\u001b[K     |████████████████████████████████| 3.4 MB 66.1 MB/s eta 0:00:01\n",
      "\u001b[?25hCollecting keras-preprocessing<1.2,>=1.1.1\n",
      "  Downloading Keras_Preprocessing-1.1.2-py2.py3-none-any.whl (42 kB)\n",
      "\u001b[K     |████████████████████████████████| 42 kB 354 kB/s s eta 0:00:01\n",
      "\u001b[?25hCollecting tensorflow-estimator<2.4.0,>=2.3.0\n",
      "  Downloading tensorflow_estimator-2.3.0-py2.py3-none-any.whl (459 kB)\n",
      "\u001b[K     |████████████████████████████████| 459 kB 95.2 MB/s eta 0:00:01\n",
      "\u001b[?25hCollecting termcolor>=1.1.0\n",
      "  Downloading termcolor-1.1.0.tar.gz (3.9 kB)\n",
      "Requirement already satisfied: wheel>=0.26 in /home/ec2-user/anaconda3/envs/python3/lib/python3.6/site-packages (from tensorflow) (0.34.2)\n",
      "Collecting absl-py>=0.7.0\n",
      "  Downloading absl-py-0.9.0.tar.gz (104 kB)\n",
      "\u001b[K     |████████████████████████████████| 104 kB 119.5 MB/s eta 0:00:01\n",
      "\u001b[?25hRequirement already satisfied: six>=1.12.0 in /home/ec2-user/anaconda3/envs/python3/lib/python3.6/site-packages (from tensorflow) (1.14.0)\n",
      "Collecting gast==0.3.3\n",
      "  Downloading gast-0.3.3-py2.py3-none-any.whl (9.7 kB)\n",
      "Collecting tensorboard<3,>=2.3.0\n",
      "  Downloading tensorboard-2.3.0-py3-none-any.whl (6.8 MB)\n",
      "\u001b[K     |████████████████████████████████| 6.8 MB 101.7 MB/s eta 0:00:01\n",
      "\u001b[?25hCollecting google-pasta>=0.1.8\n",
      "  Downloading google_pasta-0.2.0-py3-none-any.whl (57 kB)\n",
      "\u001b[K     |████████████████████████████████| 57 kB 10.1 MB/s eta 0:00:01\n",
      "\u001b[?25hRequirement already satisfied: h5py<2.11.0,>=2.10.0 in /home/ec2-user/anaconda3/envs/python3/lib/python3.6/site-packages (from tensorflow) (2.10.0)\n",
      "Requirement already satisfied: wrapt>=1.11.1 in /home/ec2-user/anaconda3/envs/python3/lib/python3.6/site-packages (from tensorflow) (1.12.1)\n",
      "Requirement already satisfied: numpy<1.19.0,>=1.16.0 in /home/ec2-user/anaconda3/envs/python3/lib/python3.6/site-packages (from tensorflow) (1.18.1)\n",
      "Requirement already satisfied: scipy==1.4.1 in /home/ec2-user/anaconda3/envs/python3/lib/python3.6/site-packages (from tensorflow) (1.4.1)\n",
      "Requirement already satisfied: setuptools in /home/ec2-user/anaconda3/envs/python3/lib/python3.6/site-packages (from protobuf>=3.9.2->tensorflow) (46.1.3.post20200330)\n",
      "Requirement already satisfied: werkzeug>=0.11.15 in /home/ec2-user/anaconda3/envs/python3/lib/python3.6/site-packages (from tensorboard<3,>=2.3.0->tensorflow) (1.0.1)\n",
      "Collecting google-auth<2,>=1.6.3\n",
      "  Downloading google_auth-1.20.1-py2.py3-none-any.whl (91 kB)\n",
      "\u001b[K     |████████████████████████████████| 91 kB 2.1 MB/s s eta 0:00:01\n",
      "\u001b[?25hCollecting tensorboard-plugin-wit>=1.6.0\n",
      "  Downloading tensorboard_plugin_wit-1.7.0-py3-none-any.whl (779 kB)\n",
      "\u001b[K     |████████████████████████████████| 779 kB 84.0 MB/s eta 0:00:01\n",
      "\u001b[?25hCollecting google-auth-oauthlib<0.5,>=0.4.1\n",
      "  Downloading google_auth_oauthlib-0.4.1-py2.py3-none-any.whl (18 kB)\n",
      "Collecting markdown>=2.6.8\n",
      "  Downloading Markdown-3.2.2-py3-none-any.whl (88 kB)\n",
      "\u001b[K     |████████████████████████████████| 88 kB 13.4 MB/s  eta 0:00:01\n",
      "\u001b[?25hRequirement already satisfied: requests<3,>=2.21.0 in /home/ec2-user/anaconda3/envs/python3/lib/python3.6/site-packages (from tensorboard<3,>=2.3.0->tensorflow) (2.23.0)\n",
      "Collecting cachetools<5.0,>=2.0.0\n",
      "  Downloading cachetools-4.1.1-py3-none-any.whl (10 kB)\n",
      "Requirement already satisfied: rsa<5,>=3.1.4; python_version >= \"3.5\" in /home/ec2-user/anaconda3/envs/python3/lib/python3.6/site-packages (from google-auth<2,>=1.6.3->tensorboard<3,>=2.3.0->tensorflow) (4.5)\n",
      "Collecting pyasn1-modules>=0.2.1\n",
      "  Downloading pyasn1_modules-0.2.8-py2.py3-none-any.whl (155 kB)\n",
      "\u001b[K     |████████████████████████████████| 155 kB 115.4 MB/s eta 0:00:01\n",
      "\u001b[?25hCollecting requests-oauthlib>=0.7.0\n",
      "  Downloading requests_oauthlib-1.3.0-py2.py3-none-any.whl (23 kB)\n",
      "Requirement already satisfied: importlib-metadata; python_version < \"3.8\" in /home/ec2-user/anaconda3/envs/python3/lib/python3.6/site-packages (from markdown>=2.6.8->tensorboard<3,>=2.3.0->tensorflow) (1.5.0)\n",
      "Requirement already satisfied: urllib3!=1.25.0,!=1.25.1,<1.26,>=1.21.1 in /home/ec2-user/anaconda3/envs/python3/lib/python3.6/site-packages (from requests<3,>=2.21.0->tensorboard<3,>=2.3.0->tensorflow) (1.25.8)\n",
      "Requirement already satisfied: certifi>=2017.4.17 in /home/ec2-user/anaconda3/envs/python3/lib/python3.6/site-packages (from requests<3,>=2.21.0->tensorboard<3,>=2.3.0->tensorflow) (2020.4.5.2)\n",
      "Requirement already satisfied: chardet<4,>=3.0.2 in /home/ec2-user/anaconda3/envs/python3/lib/python3.6/site-packages (from requests<3,>=2.21.0->tensorboard<3,>=2.3.0->tensorflow) (3.0.4)\n",
      "Requirement already satisfied: idna<3,>=2.5 in /home/ec2-user/anaconda3/envs/python3/lib/python3.6/site-packages (from requests<3,>=2.21.0->tensorboard<3,>=2.3.0->tensorflow) (2.9)\n",
      "Requirement already satisfied: pyasn1>=0.1.3 in /home/ec2-user/anaconda3/envs/python3/lib/python3.6/site-packages (from rsa<5,>=3.1.4; python_version >= \"3.5\"->google-auth<2,>=1.6.3->tensorboard<3,>=2.3.0->tensorflow) (0.4.8)\n",
      "Collecting oauthlib>=3.0.0\n",
      "  Downloading oauthlib-3.1.0-py2.py3-none-any.whl (147 kB)\n",
      "\u001b[K     |████████████████████████████████| 147 kB 120.6 MB/s eta 0:00:01\n",
      "\u001b[?25hRequirement already satisfied: zipp>=0.5 in /home/ec2-user/anaconda3/envs/python3/lib/python3.6/site-packages (from importlib-metadata; python_version < \"3.8\"->markdown>=2.6.8->tensorboard<3,>=2.3.0->tensorflow) (2.2.0)\n",
      "Building wheels for collected packages: termcolor, absl-py\n",
      "  Building wheel for termcolor (setup.py) ... \u001b[?25ldone\n",
      "\u001b[?25h  Created wheel for termcolor: filename=termcolor-1.1.0-py3-none-any.whl size=4830 sha256=e5c1e24786ef68d5a67542ccd21d0f60376b8ea0f4fa85fba68e2662a050fc02\n",
      "  Stored in directory: /home/ec2-user/.cache/pip/wheels/93/2a/eb/e58dbcbc963549ee4f065ff80a59f274cc7210b6eab962acdc\n",
      "  Building wheel for absl-py (setup.py) ... \u001b[?25ldone\n",
      "\u001b[?25h  Created wheel for absl-py: filename=absl_py-0.9.0-py3-none-any.whl size=121931 sha256=cb9ff4f4ff4a7586f31199fffa78d6f19092833f96ab9a01ba74e7650edb2c03\n",
      "  Stored in directory: /home/ec2-user/.cache/pip/wheels/c3/af/84/3962a6af7b4ab336e951b7877dcfb758cf94548bb1771e0679\n",
      "Successfully built termcolor absl-py\n",
      "Installing collected packages: opt-einsum, astunparse, grpcio, keras-preprocessing, tensorflow-estimator, termcolor, absl-py, gast, cachetools, pyasn1-modules, google-auth, tensorboard-plugin-wit, oauthlib, requests-oauthlib, google-auth-oauthlib, markdown, tensorboard, google-pasta, tensorflow\n",
      "Successfully installed absl-py-0.9.0 astunparse-1.6.3 cachetools-4.1.1 gast-0.3.3 google-auth-1.20.1 google-auth-oauthlib-0.4.1 google-pasta-0.2.0 grpcio-1.31.0 keras-preprocessing-1.1.2 markdown-3.2.2 oauthlib-3.1.0 opt-einsum-3.3.0 pyasn1-modules-0.2.8 requests-oauthlib-1.3.0 tensorboard-2.3.0 tensorboard-plugin-wit-1.7.0 tensorflow-2.3.0 tensorflow-estimator-2.3.0 termcolor-1.1.0\n",
      "\u001b[33mWARNING: You are using pip version 20.0.2; however, version 20.2.2 is available.\n",
      "You should consider upgrading via the '/home/ec2-user/anaconda3/envs/python3/bin/python -m pip install --upgrade pip' command.\u001b[0m\n"
     ]
    }
   ],
   "source": [
    "!pip install tensorflow"
   ]
  },
  {
   "cell_type": "code",
   "execution_count": 1,
   "metadata": {},
   "outputs": [],
   "source": [
    "import pandas as pd\n",
    "import numpy as np\n",
    "from sklearn.preprocessing import MinMaxScaler\n",
    "from sklearn.model_selection import train_test_split\n",
    "from sklearn.metrics import mean_absolute_error\n",
    "import matplotlib.pyplot as plt\n",
    "import tensorflow as tf\n",
    "from scipy import signal\n",
    "from math import ceil\n",
    "import seaborn as sns\n",
    "from scipy import stats"
   ]
  },
  {
   "cell_type": "code",
   "execution_count": 2,
   "metadata": {},
   "outputs": [],
   "source": [
    "def plot_train_history(history, title):\n",
    "    loss = history.history['loss']\n",
    "    val_loss = history.history['val_loss']\n",
    "\n",
    "    epochs = range(len(loss))\n",
    "\n",
    "    plt.figure()\n",
    "\n",
    "    plt.plot(epochs, loss, 'b', label='Training loss')\n",
    "    plt.plot(epochs, val_loss, 'r', label='Validation loss')\n",
    "    plt.title(title)\n",
    "    plt.legend()\n",
    "\n",
    "    plt.show()"
   ]
  },
  {
   "cell_type": "code",
   "execution_count": 3,
   "metadata": {},
   "outputs": [],
   "source": [
    "def plot_predictions(test,predicted):\n",
    "    plt.plot(test, color='red',label='Patient Real Heart Rate')\n",
    "    plt.plot(predicted, color='blue',label='Patient Predicted Heart Rate')\n",
    "    plt.title('Heart Rate Prediction')\n",
    "    plt.xlabel('Time')\n",
    "    plt.ylabel('mV')\n",
    "    plt.legend()\n",
    "    plt.show()\n",
    "\n",
    "def return_rmse(test,predicted):\n",
    "    mae =mean_absolute_error(test, predicted)\n",
    "    print(f\"The mean absolute error is {mae}.\")"
   ]
  },
  {
   "cell_type": "code",
   "execution_count": 4,
   "metadata": {},
   "outputs": [],
   "source": [
    "def univariate_data(dataset, start_index, end_index, history_size, target_size):\n",
    "    data = []\n",
    "    labels = []\n",
    "\n",
    "    start_index = start_index + history_size\n",
    "    if end_index is None:\n",
    "        end_index = len(dataset) - target_size\n",
    "\n",
    "    for i in range(start_index, end_index):\n",
    "        indices = range(i-history_size, i)\n",
    "    # Reshape data from (history_size,) to (history_size, 1)\n",
    "        data.append(np.reshape(dataset[indices], (history_size, 1)))\n",
    "        labels.append(dataset[i+target_size])\n",
    "    return np.array(data), np.array(labels)"
   ]
  },
  {
   "cell_type": "code",
   "execution_count": 5,
   "metadata": {},
   "outputs": [],
   "source": [
    "def create_time_steps(length):\n",
    "    return list(range(-length, 0))"
   ]
  },
  {
   "cell_type": "code",
   "execution_count": 6,
   "metadata": {},
   "outputs": [],
   "source": [
    "def multi_step_plot(history, true_future, prediction):\n",
    "    plt.figure(figsize=(12, 6))\n",
    "    num_in = create_time_steps(len(history))\n",
    "    num_out = len(true_future)\n",
    "\n",
    "    plt.plot(num_in, np.array(history[:, 1]), label='History',kind='line')\n",
    "    plt.plot(np.arange(num_out)/STEP, np.array(true_future), 'bo',label='True Future',kind='line')\n",
    "    if prediction.any():\n",
    "        plt.plot(np.arange(num_out)/STEP, np.array(prediction), 'ro')\n",
    "    plt.legend(loc='upper left')\n",
    "    plt.show()"
   ]
  },
  {
   "cell_type": "code",
   "execution_count": 7,
   "metadata": {},
   "outputs": [],
   "source": [
    "tf.random.set_seed(13)"
   ]
  },
  {
   "cell_type": "code",
   "execution_count": 8,
   "metadata": {},
   "outputs": [
    {
     "data": {
      "text/html": [
       "<div>\n",
       "<style scoped>\n",
       "    .dataframe tbody tr th:only-of-type {\n",
       "        vertical-align: middle;\n",
       "    }\n",
       "\n",
       "    .dataframe tbody tr th {\n",
       "        vertical-align: top;\n",
       "    }\n",
       "\n",
       "    .dataframe thead th {\n",
       "        text-align: right;\n",
       "    }\n",
       "</style>\n",
       "<table border=\"1\" class=\"dataframe\">\n",
       "  <thead>\n",
       "    <tr style=\"text-align: right;\">\n",
       "      <th></th>\n",
       "      <th>fx</th>\n",
       "    </tr>\n",
       "    <tr>\n",
       "      <th>x</th>\n",
       "      <th></th>\n",
       "    </tr>\n",
       "  </thead>\n",
       "  <tbody>\n",
       "    <tr>\n",
       "      <th>-50000</th>\n",
       "      <td>2500000000</td>\n",
       "    </tr>\n",
       "    <tr>\n",
       "      <th>-49999</th>\n",
       "      <td>2499900001</td>\n",
       "    </tr>\n",
       "    <tr>\n",
       "      <th>-49998</th>\n",
       "      <td>2499800004</td>\n",
       "    </tr>\n",
       "    <tr>\n",
       "      <th>-49997</th>\n",
       "      <td>2499700009</td>\n",
       "    </tr>\n",
       "    <tr>\n",
       "      <th>-49996</th>\n",
       "      <td>2499600016</td>\n",
       "    </tr>\n",
       "  </tbody>\n",
       "</table>\n",
       "</div>"
      ],
      "text/plain": [
       "                fx\n",
       "x                 \n",
       "-50000  2500000000\n",
       "-49999  2499900001\n",
       "-49998  2499800004\n",
       "-49997  2499700009\n",
       "-49996  2499600016"
      ]
     },
     "execution_count": 8,
     "metadata": {},
     "output_type": "execute_result"
    }
   ],
   "source": [
    "df = pd.read_csv('../../data/raw/parabola_100K.csv', index_col='x')\n",
    "df.head()"
   ]
  },
  {
   "cell_type": "code",
   "execution_count": 9,
   "metadata": {
    "scrolled": true
   },
   "outputs": [
    {
     "data": {
      "text/plain": [
       "50000"
      ]
     },
     "execution_count": 9,
     "metadata": {},
     "output_type": "execute_result"
    }
   ],
   "source": [
    "int(df.shape[0] * 0.5)"
   ]
  },
  {
   "cell_type": "code",
   "execution_count": 10,
   "metadata": {},
   "outputs": [
    {
     "data": {
      "text/html": [
       "<div>\n",
       "<style scoped>\n",
       "    .dataframe tbody tr th:only-of-type {\n",
       "        vertical-align: middle;\n",
       "    }\n",
       "\n",
       "    .dataframe tbody tr th {\n",
       "        vertical-align: top;\n",
       "    }\n",
       "\n",
       "    .dataframe thead th {\n",
       "        text-align: right;\n",
       "    }\n",
       "</style>\n",
       "<table border=\"1\" class=\"dataframe\">\n",
       "  <thead>\n",
       "    <tr style=\"text-align: right;\">\n",
       "      <th></th>\n",
       "      <th>fx</th>\n",
       "    </tr>\n",
       "    <tr>\n",
       "      <th>x</th>\n",
       "      <th></th>\n",
       "    </tr>\n",
       "  </thead>\n",
       "  <tbody>\n",
       "    <tr>\n",
       "      <th>49996</th>\n",
       "      <td>2499600016</td>\n",
       "    </tr>\n",
       "    <tr>\n",
       "      <th>49997</th>\n",
       "      <td>2499700009</td>\n",
       "    </tr>\n",
       "    <tr>\n",
       "      <th>49998</th>\n",
       "      <td>2499800004</td>\n",
       "    </tr>\n",
       "    <tr>\n",
       "      <th>49999</th>\n",
       "      <td>2499900001</td>\n",
       "    </tr>\n",
       "    <tr>\n",
       "      <th>50000</th>\n",
       "      <td>2500000000</td>\n",
       "    </tr>\n",
       "  </tbody>\n",
       "</table>\n",
       "</div>"
      ],
      "text/plain": [
       "               fx\n",
       "x                \n",
       "49996  2499600016\n",
       "49997  2499700009\n",
       "49998  2499800004\n",
       "49999  2499900001\n",
       "50000  2500000000"
      ]
     },
     "execution_count": 10,
     "metadata": {},
     "output_type": "execute_result"
    }
   ],
   "source": [
    "df.tail(5)"
   ]
  },
  {
   "cell_type": "markdown",
   "metadata": {},
   "source": [
    "## Training for 60% of the base"
   ]
  },
  {
   "cell_type": "code",
   "execution_count": 11,
   "metadata": {},
   "outputs": [],
   "source": [
    "train = df.iloc[0:int(df.shape[0]*0.5)].values"
   ]
  },
  {
   "cell_type": "code",
   "execution_count": 12,
   "metadata": {},
   "outputs": [],
   "source": [
    "test = df.iloc[int(df.shape[0]*0.5):].values"
   ]
  },
  {
   "cell_type": "code",
   "execution_count": 13,
   "metadata": {},
   "outputs": [
    {
     "data": {
      "image/png": "[encoded data removed]",
      "text/plain": [
       "<Figure size 1152x288 with 1 Axes>"
      ]
     },
     "metadata": {
      "needs_background": "light"
     },
     "output_type": "display_data"
    }
   ],
   "source": [
    "df[\"fx\"].iloc[0:int(df.shape[0]*0.5)].plot(figsize=(16,4),legend=True)\n",
    "df[\"fx\"].iloc[int(df.shape[0]*0.5):].plot(figsize=(16,4),legend=True)\n",
    "plt.legend([f'Training set -50000 to 0',f'Test set 0 to 50000'])\n",
    "plt.title('Parábola')\n",
    "plt.show()"
   ]
  },
  {
   "cell_type": "code",
   "execution_count": 14,
   "metadata": {},
   "outputs": [
    {
     "data": {
      "text/plain": [
       "x\n",
       "-50000    2500000000\n",
       "-49999    2499900001\n",
       "-49998    2499800004\n",
       "-49997    2499700009\n",
       "-49996    2499600016\n",
       "Name: fx, dtype: int64"
      ]
     },
     "execution_count": 14,
     "metadata": {},
     "output_type": "execute_result"
    }
   ],
   "source": [
    "uni_data = df['fx']\n",
    "uni_data.head()"
   ]
  },
  {
   "cell_type": "code",
   "execution_count": 15,
   "metadata": {},
   "outputs": [],
   "source": [
    "uni_data = uni_data.values"
   ]
  },
  {
   "cell_type": "code",
   "execution_count": 16,
   "metadata": {},
   "outputs": [],
   "source": [
    "uni_train_mean = uni_data[:int(df.shape[0]*0.5)].mean()\n",
    "uni_train_std = uni_data[:int(df.shape[0]*0.5)].std()"
   ]
  },
  {
   "cell_type": "code",
   "execution_count": 17,
   "metadata": {},
   "outputs": [
    {
     "data": {
      "text/plain": [
       "833358333.5"
      ]
     },
     "execution_count": 17,
     "metadata": {},
     "output_type": "execute_result"
    }
   ],
   "source": [
    "uni_train_mean"
   ]
  },
  {
   "cell_type": "code",
   "execution_count": 18,
   "metadata": {},
   "outputs": [
    {
     "data": {
      "text/plain": [
       "745369967.7471827"
      ]
     },
     "execution_count": 18,
     "metadata": {},
     "output_type": "execute_result"
    }
   ],
   "source": [
    "uni_train_std"
   ]
  },
  {
   "cell_type": "markdown",
   "metadata": {
    "colab_type": "text",
    "id": "8Gob1YJYH0cH"
   },
   "source": [
    "Let's standardize the data."
   ]
  },
  {
   "cell_type": "code",
   "execution_count": 19,
   "metadata": {
    "colab": {},
    "colab_type": "code",
    "id": "BO55yRD6H0Dx"
   },
   "outputs": [],
   "source": [
    "uni_data = (uni_data-uni_train_mean)/uni_train_std"
   ]
  },
  {
   "cell_type": "code",
   "execution_count": 42,
   "metadata": {},
   "outputs": [],
   "source": [
    "univariate_past_history = 900\n",
    "univariate_future_target = 100\n",
    "\n",
    "x_train_uni, y_train_uni = univariate_data(uni_data, 0, int(df.shape[0]*0.7),\n",
    "                                           univariate_past_history,\n",
    "                                           univariate_future_target)\n",
    "x_val_uni, y_val_uni = univariate_data(uni_data, int(df.shape[0]*0.3), None,\n",
    "                                       univariate_past_history,\n",
    "                                       univariate_future_target)"
   ]
  },
  {
   "cell_type": "markdown",
   "metadata": {},
   "source": [
    "# Model testing"
   ]
  },
  {
   "cell_type": "code",
   "execution_count": 43,
   "metadata": {},
   "outputs": [],
   "source": [
    "multi_step_model = tf.keras.models.Sequential()\n",
    "multi_step_model.add(tf.keras.layers.LSTM(16,\n",
    "                                          return_sequences=True,\n",
    "                                          input_shape=x_train_uni.shape[-2:]))\n",
    "multi_step_model.add(tf.keras.layers.LSTM(16, activation='elu'))\n",
    "multi_step_model.add(tf.keras.layers.Dense(1))\n",
    "\n",
    "tf.keras.callbacks.EarlyStopping(\n",
    "    monitor='val_loss', min_delta=0, patience=0, verbose=0, mode='auto',\n",
    "    baseline=None, restore_best_weights=False\n",
    ")\n",
    "\n",
    "multi_step_model.compile(optimizer=tf.keras.optimizers.RMSprop(clipvalue=1.0), loss='mae')"
   ]
  },
  {
   "cell_type": "code",
   "execution_count": 44,
   "metadata": {},
   "outputs": [],
   "source": [
    "train_data_multi = tf.data.Dataset.from_tensor_slices((x_train_uni, y_train_uni))\n",
    "train_data_multi = train_data_multi.cache().shuffle(300).batch(900).repeat()\n",
    "\n",
    "val_data_multi = tf.data.Dataset.from_tensor_slices((x_val_uni, y_val_uni))\n",
    "val_data_multi = val_data_multi.batch(900).repeat()"
   ]
  },
  {
   "cell_type": "markdown",
   "metadata": {},
   "source": [
    "Batch de 100 com shuffle de 50 não roda bem"
   ]
  },
  {
   "cell_type": "code",
   "execution_count": 45,
   "metadata": {},
   "outputs": [
    {
     "name": "stdout",
     "output_type": "stream",
     "text": [
      "Epoch 1/5\n",
      "20/20 [==============================] - 51s 3s/step - loss: 0.6059 - val_loss: 0.7837\n",
      "Epoch 2/5\n",
      "20/20 [==============================] - 50s 3s/step - loss: 0.1861 - val_loss: 0.0911\n",
      "Epoch 3/5\n",
      "20/20 [==============================] - 50s 2s/step - loss: 0.0640 - val_loss: 0.0954\n",
      "Epoch 4/5\n",
      "20/20 [==============================] - 49s 2s/step - loss: 0.1232 - val_loss: 0.1593\n",
      "Epoch 5/5\n",
      "20/20 [==============================] - 50s 2s/step - loss: 0.0626 - val_loss: 0.2003\n"
     ]
    }
   ],
   "source": [
    "multi_step_history = multi_step_model.fit(train_data_multi, epochs=5,\n",
    "                                          steps_per_epoch=20,\n",
    "                                          validation_data=val_data_multi,\n",
    "                                          validation_steps=50)"
   ]
  },
  {
   "cell_type": "markdown",
   "metadata": {},
   "source": [
    "#### Elu\n",
    "- elu está indo bem, na 3 epoca conseguimos loss de 8%\n",
    "- na 3 epoca ele começa a perder loss, será que existe uma função de early stop com tensor flow?\n",
    "- loss de 20%, relativamente alto.\n",
    "- Mesmo com ativação Elu temos uma distância grande desviando 0.04."
   ]
  },
  {
   "cell_type": "code",
   "execution_count": 46,
   "metadata": {},
   "outputs": [
    {
     "data": {
      "image/png": "[encoded data removed]",
      "text/plain": [
       "<Figure size 432x288 with 1 Axes>"
      ]
     },
     "metadata": {
      "needs_background": "light"
     },
     "output_type": "display_data"
    }
   ],
   "source": [
    "plot_train_history(multi_step_history, 'Multi-Step Training and validation loss')"
   ]
  },
  {
   "cell_type": "code",
   "execution_count": 41,
   "metadata": {},
   "outputs": [
    {
     "name": "stdout",
     "output_type": "stream",
     "text": [
      "result for ks on test is KstestResult(statistic=0.7368692996713779, pvalue=0.0)\n",
      "result for ks on prediction is KstestResult(statistic=0.7377464162135385, pvalue=0.0)\n",
      "Results for spearman correlation is SpearmanrResult(correlation=1.0, pvalue=0.0)\n"
     ]
    },
    {
     "data": {
      "image/png": "[encoded data removed]",
      "text/plain": [
       "<Figure size 864x432 with 1 Axes>"
      ]
     },
     "metadata": {
      "needs_background": "light"
     },
     "output_type": "display_data"
    }
   ],
   "source": []
  },
  {
   "cell_type": "markdown",
   "metadata": {},
   "source": [
    "#### Relu\n",
    "- relu está indo bem, na 3 epoca conseguimos loss de 10%\n",
    "- na 4 epoca ele começa a perder loss, Vou tentar aplicar um keras early stop! :)\n",
    "- Na 4 epoca ele perde loss porém ganha no teste.\n",
    "- Na 5 epoca o loss é melhor apenas 6%\n",
    "- A Distância diminuiu desta vez, agora é de 0.03"
   ]
  },
  {
   "cell_type": "code",
   "execution_count": 39,
   "metadata": {},
   "outputs": [
    {
     "data": {
      "image/png": "[encoded data removed]",
      "text/plain": [
       "<Figure size 432x288 with 1 Axes>"
      ]
     },
     "metadata": {
      "needs_background": "light"
     },
     "output_type": "display_data"
    }
   ],
   "source": [
    "plot_train_history(multi_step_history, 'Multi-Step Training and validation loss')"
   ]
  },
  {
   "cell_type": "code",
   "execution_count": 41,
   "metadata": {},
   "outputs": [
    {
     "name": "stdout",
     "output_type": "stream",
     "text": [
      "result for ks on test is KstestResult(statistic=0.7368692996713779, pvalue=0.0)\n",
      "result for ks on prediction is KstestResult(statistic=0.7377464162135385, pvalue=0.0)\n",
      "Results for spearman correlation is SpearmanrResult(correlation=1.0, pvalue=0.0)\n"
     ]
    },
    {
     "data": {
      "image/png": "[encoded data removed]",
      "text/plain": [
       "<Figure size 864x432 with 1 Axes>"
      ]
     },
     "metadata": {
      "needs_background": "light"
     },
     "output_type": "display_data"
    }
   ],
   "source": []
  },
  {
   "cell_type": "code",
   "execution_count": 38,
   "metadata": {},
   "outputs": [
    {
     "data": {
      "text/html": [
       "<div>\n",
       "<style scoped>\n",
       "    .dataframe tbody tr th:only-of-type {\n",
       "        vertical-align: middle;\n",
       "    }\n",
       "\n",
       "    .dataframe tbody tr th {\n",
       "        vertical-align: top;\n",
       "    }\n",
       "\n",
       "    .dataframe thead th {\n",
       "        text-align: right;\n",
       "    }\n",
       "</style>\n",
       "<table border=\"1\" class=\"dataframe\">\n",
       "  <thead>\n",
       "    <tr style=\"text-align: right;\">\n",
       "      <th></th>\n",
       "      <th>fx</th>\n",
       "    </tr>\n",
       "    <tr>\n",
       "      <th>x</th>\n",
       "      <th></th>\n",
       "    </tr>\n",
       "  </thead>\n",
       "  <tbody>\n",
       "    <tr>\n",
       "      <th>-50000</th>\n",
       "      <td>2500000000</td>\n",
       "    </tr>\n",
       "    <tr>\n",
       "      <th>-49999</th>\n",
       "      <td>2499900001</td>\n",
       "    </tr>\n",
       "    <tr>\n",
       "      <th>-49998</th>\n",
       "      <td>2499800004</td>\n",
       "    </tr>\n",
       "    <tr>\n",
       "      <th>-49997</th>\n",
       "      <td>2499700009</td>\n",
       "    </tr>\n",
       "  </tbody>\n",
       "</table>\n",
       "</div>"
      ],
      "text/plain": [
       "                fx\n",
       "x                 \n",
       "-50000  2500000000\n",
       "-49999  2499900001\n",
       "-49998  2499800004\n",
       "-49997  2499700009"
      ]
     },
     "execution_count": 38,
     "metadata": {},
     "output_type": "execute_result"
    }
   ],
   "source": [
    "df.head(4)"
   ]
  },
  {
   "cell_type": "markdown",
   "metadata": {},
   "source": [
    "## Utilizar um batch menor, otimiza a época"
   ]
  },
  {
   "cell_type": "markdown",
   "metadata": {},
   "source": [
    "## Alcançamos um resultado bom com 5 épocas, utilizando 30 passos.\n",
    "## É necessário otimizar melhor o modelo, 10 épocas está se provando ser muito lento o que gera muito gasto"
   ]
  },
  {
   "cell_type": "markdown",
   "metadata": {},
   "source": [
    "## Multi-Step Training"
   ]
  },
  {
   "cell_type": "code",
   "execution_count": 46,
   "metadata": {},
   "outputs": [
    {
     "data": {
      "image/png": "[encoded data removed]",
      "text/plain": [
       "<Figure size 432x288 with 1 Axes>"
      ]
     },
     "metadata": {
      "needs_background": "light"
     },
     "output_type": "display_data"
    }
   ],
   "source": [
    "plot_train_history(multi_step_history, 'Multi-Step Training and validation loss')"
   ]
  },
  {
   "cell_type": "code",
   "execution_count": 47,
   "metadata": {},
   "outputs": [],
   "source": [
    "STEP = 1"
   ]
  },
  {
   "cell_type": "code",
   "execution_count": 48,
   "metadata": {},
   "outputs": [
    {
     "name": "stdout",
     "output_type": "stream",
     "text": [
      "result for ks on test is KstestResult(statistic=0.7368692996713779, pvalue=0.0)\n",
      "result for ks on prediction is KstestResult(statistic=0.7301768125951706, pvalue=0.0)\n",
      "Results for spearman correlation is SpearmanrResult(correlation=1.0, pvalue=0.0)\n"
     ]
    },
    {
     "data": {
      "image/png": "[encoded data removed]",
      "text/plain": [
       "<Figure size 864x432 with 1 Axes>"
      ]
     },
     "metadata": {
      "needs_background": "light"
     },
     "output_type": "display_data"
    }
   ],
   "source": [
    "for x, y in val_data_multi.take(1):\n",
    "    num_in = create_time_steps(len(x))\n",
    "    num_out = len(y)\n",
    "    prediction = multi_step_model.predict(x)\n",
    "    \n",
    "    ks_test = stats.kstest(np.array(y),'norm')\n",
    "    ks_pred = stats.kstest(np.array(prediction),'norm')\n",
    "    \n",
    "    print(f'result for ks on test is {ks_test}')\n",
    "    print(f'result for ks on prediction is {ks_pred}')\n",
    "    \n",
    "    if (ks_test[1] >=0.05) and (ks_pred[1] >= 0.05):\n",
    "        print(f'Results for pearson correlation is {stats.pearsonr(np.array(pd.DataFrame(y)[0]),np.array(pd.DataFrame(prediction)[0]))}')\n",
    "    else:\n",
    "        print(f'Results for spearman correlation is {stats.spearmanr((np.array(pd.DataFrame(y)[0])),(np.array(pd.DataFrame(prediction)[0])))}')\n",
    "        #pass\n",
    "    \n",
    "    plt.figure(figsize=(12, 6))\n",
    "    #plt.plot(num_in, np.array(x[:, 1]), label='History')\n",
    "    plt.plot(np.arange(num_out)/STEP, np.array(y),label='True Future',color='orange')\n",
    "    if prediction.any():\n",
    "        plt.plot(np.arange(num_out)/STEP, np.array(prediction),color='blue',alpha=0.7)\n",
    "    plt.legend(['Dados reais','Previsão'])\n",
    "    plt.title('Reais x Previsão')\n",
    "    plt.show()"
   ]
  },
  {
   "cell_type": "markdown",
   "metadata": {},
   "source": [
    "## Jogar no LabView e ver os fatores.\n",
    "## Olhar se estou subtraindo por uma constante."
   ]
  },
  {
   "cell_type": "code",
   "execution_count": 63,
   "metadata": {},
   "outputs": [
    {
     "data": {
      "text/plain": [
       "<tf.Tensor: id=55740, shape=(481, 20, 1), dtype=float64, numpy=\n",
       "array([[[-1.11929432],\n",
       "        [-1.11928093],\n",
       "        [-1.11924076],\n",
       "        ...,\n",
       "        [-1.11542423],\n",
       "        [-1.11495553],\n",
       "        [-1.11446005]],\n",
       "\n",
       "       [[-1.11928093],\n",
       "        [-1.11924076],\n",
       "        [-1.1191738 ],\n",
       "        ...,\n",
       "        [-1.11495553],\n",
       "        [-1.11446005],\n",
       "        [-1.11393779]],\n",
       "\n",
       "       [[-1.11924076],\n",
       "        [-1.1191738 ],\n",
       "        [-1.11908006],\n",
       "        ...,\n",
       "        [-1.11446005],\n",
       "        [-1.11393779],\n",
       "        [-1.11338874]],\n",
       "\n",
       "       ...,\n",
       "\n",
       "       [[ 1.94041057],\n",
       "        [ 1.95322607],\n",
       "        [ 1.96606836],\n",
       "        ...,\n",
       "        [ 2.16191657],\n",
       "        [ 2.17518738],\n",
       "        [ 2.18848498]],\n",
       "\n",
       "       [[ 1.95322607],\n",
       "        [ 1.96606836],\n",
       "        [ 1.97893743],\n",
       "        ...,\n",
       "        [ 2.17518738],\n",
       "        [ 2.18848498],\n",
       "        [ 2.20180935]],\n",
       "\n",
       "       [[ 1.96606836],\n",
       "        [ 1.97893743],\n",
       "        [ 1.99183328],\n",
       "        ...,\n",
       "        [ 2.18848498],\n",
       "        [ 2.20180935],\n",
       "        [ 2.21516051]]])>"
      ]
     },
     "execution_count": 63,
     "metadata": {},
     "output_type": "execute_result"
    }
   ],
   "source": [
    "x"
   ]
  },
  {
   "cell_type": "code",
   "execution_count": 35,
   "metadata": {},
   "outputs": [
    {
     "data": {
      "text/plain": [
       "array([[2.22853845],\n",
       "       [2.21516051],\n",
       "       [2.20180935],\n",
       "       [2.18848498],\n",
       "       [2.17518738],\n",
       "       [2.16191657],\n",
       "       [2.14867255],\n",
       "       [2.1354553 ],\n",
       "       [2.12226484],\n",
       "       [2.10910117],\n",
       "       [2.09596427],\n",
       "       [2.08285416],\n",
       "       [2.06977083],\n",
       "       [2.05671428],\n",
       "       [2.04368451],\n",
       "       [2.03068153],\n",
       "       [2.01770533],\n",
       "       [2.00475591],\n",
       "       [1.99183328],\n",
       "       [1.97893743]])"
      ]
     },
     "execution_count": 35,
     "metadata": {},
     "output_type": "execute_result"
    }
   ],
   "source": [
    "x_train_uni[0]"
   ]
  },
  {
   "cell_type": "code",
   "execution_count": 36,
   "metadata": {},
   "outputs": [
    {
     "data": {
      "text/plain": [
       "1.9660683578796079"
      ]
     },
     "execution_count": 36,
     "metadata": {},
     "output_type": "execute_result"
    }
   ],
   "source": [
    "y_train_uni[0]"
   ]
  },
  {
   "cell_type": "code",
   "execution_count": 38,
   "metadata": {},
   "outputs": [
    {
     "data": {
      "text/plain": [
       "array([[-1.11929432],\n",
       "       [-1.11928093],\n",
       "       [-1.11924076],\n",
       "       [-1.1191738 ],\n",
       "       [-1.11908006],\n",
       "       [-1.11895954],\n",
       "       [-1.11881223],\n",
       "       [-1.11863815],\n",
       "       [-1.11843728],\n",
       "       [-1.11820962],\n",
       "       [-1.11795519],\n",
       "       [-1.11767397],\n",
       "       [-1.11736597],\n",
       "       [-1.11703119],\n",
       "       [-1.11666962],\n",
       "       [-1.11628127],\n",
       "       [-1.11586614],\n",
       "       [-1.11542423],\n",
       "       [-1.11495553],\n",
       "       [-1.11446005]])"
      ]
     },
     "execution_count": 38,
     "metadata": {},
     "output_type": "execute_result"
    }
   ],
   "source": [
    "x_val_uni[0]"
   ]
  },
  {
   "cell_type": "code",
   "execution_count": 39,
   "metadata": {},
   "outputs": [
    {
     "data": {
      "text/plain": [
       "-1.1139377879712318"
      ]
     },
     "execution_count": 39,
     "metadata": {},
     "output_type": "execute_result"
    }
   ],
   "source": [
    "y_val_uni[0]"
   ]
  },
  {
   "cell_type": "code",
   "execution_count": 40,
   "metadata": {},
   "outputs": [
    {
     "data": {
      "text/plain": [
       "<matplotlib.axes._subplots.AxesSubplot at 0x2187485db08>"
      ]
     },
     "execution_count": 40,
     "metadata": {},
     "output_type": "execute_result"
    },
    {
     "data": {
      "image/png": "[encoded data removed]",
      "text/plain": [
       "<Figure size 432x288 with 1 Axes>"
      ]
     },
     "metadata": {
      "needs_background": "light"
     },
     "output_type": "display_data"
    }
   ],
   "source": [
    "df['fx'].hist()"
   ]
  },
  {
   "cell_type": "code",
   "execution_count": 43,
   "metadata": {},
   "outputs": [
    {
     "data": {
      "text/plain": [
       "<RepeatDataset shapes: ((None, 20, 1), (None,)), types: (tf.float64, tf.float64)>"
      ]
     },
     "execution_count": 43,
     "metadata": {},
     "output_type": "execute_result"
    }
   ],
   "source": [
    "train_data_multi"
   ]
  },
  {
   "cell_type": "code",
   "execution_count": 45,
   "metadata": {},
   "outputs": [],
   "source": [
    "for x,y in train_data_multi.take(1):\n",
    "    x"
   ]
  },
  {
   "cell_type": "code",
   "execution_count": 47,
   "metadata": {},
   "outputs": [
    {
     "data": {
      "text/plain": [
       "<tf.Tensor: id=35485, shape=(480,), dtype=float64, numpy=\n",
       "array([ 1.00194609e+00,  1.81372858e+00,  1.61660818e+00,  9.07095288e-01,\n",
       "        8.55337794e-01,  1.23170115e+00,  1.70200470e+00,  1.28814561e+00,\n",
       "        1.77624624e+00,  1.07721876e+00,  1.80120768e+00,  1.05557837e+00,\n",
       "        1.06638517e+00,  1.85145196e+00,  1.88941638e+00,  1.17592626e+00,\n",
       "        9.59522349e-01,  9.80680653e-01,  7.23901879e-01,  7.94112628e-01,\n",
       "        1.55641415e+00,  6.64765761e-01,  1.42634415e+00,  1.87673479e+00,\n",
       "        1.41468030e+00,  9.38471177e-01,  1.37984945e+00,  1.68972485e+00,\n",
       "        5.58853724e-01,  1.49688968e+00,  1.20931085e+00,  1.35676279e+00,\n",
       "        1.50874101e+00,  9.70088110e-01,  1.22049261e+00,  5.77869414e-01,\n",
       "        6.16222186e-01,  1.53252401e+00,  6.06593819e-01,  1.48506514e+00,\n",
       "        1.32233368e+00,  6.55003481e-01,  6.45267983e-01,  7.43828180e-01,\n",
       "        5.96992235e-01,  1.34525964e+00,  5.02449437e-01,  1.16485163e+00,\n",
       "        1.02331865e+00,  4.37863048e-01,  1.94041057e+00,  1.33378327e+00,\n",
       "        8.65635727e-01,  1.04479835e+00,  8.24604689e-01,  6.35559268e-01,\n",
       "        1.86407998e+00,  4.47009327e-01,  1.26548748e+00,  1.76380569e+00,\n",
       "        8.86311942e-01,  1.39143295e+00,  2.60561824e-01,  1.56839939e+00,\n",
       "        1.72664475e+00,  9.17527135e-01,  1.96606836e+00,  1.18702767e+00,\n",
       "        1.58041141e+00,  4.74608860e-01,  6.84370670e-01,  5.11783195e-01,\n",
       "        1.82627625e+00,  3.39021633e-01,  1.67612595e-01,  3.83547809e-01,\n",
       "        4.28743551e-01,  7.33851638e-01,  1.40304323e+00,  6.74554824e-01,\n",
       "        5.30531059e-01,  1.52061912e+00,  1.08807913e+00,  5.87417433e-01,\n",
       "        2.09460505e-01,  4.93142462e-01,  1.66524550e+00,  1.46149639e+00,\n",
       "        1.15380378e+00,  3.47873303e-01,  1.60451581e+00,  2.01037358e-01,\n",
       "        7.53831504e-01,  6.25877336e-01,  8.59254758e-02,  1.25419859e+00,\n",
       "        1.59245022e+00,  2.25041319e-02,  1.18278932e-01,  1.09896628e+00,\n",
       "        1.12082093e+00,  2.69172450e-01,  6.91662250e-03,  7.13978903e-01,\n",
       "        1.75928612e-01,  9.39736658e-02,  1.46969858e-02,  1.10150394e-01,\n",
       "        7.79040685e-02,  5.40005425e-02,  3.21398641e-01, -1.35821575e-01,\n",
       "        8.75960444e-01,  1.24293648e+00,  8.34822275e-01,  1.19815587e+00,\n",
       "        3.12627319e-01, -1.21251807e-01,  3.03380605e-02,  1.73900495e+00,\n",
       "       -3.92031217e-02, -2.07063457e-01,  2.77809859e-01, -4.67960064e-02,\n",
       "        2.43420921e-01, -5.43621085e-02,  1.36829273e+00,  1.34616356e-01,\n",
       "       -9.91962849e-02,  1.84271411e-01, -8.43586901e-02, -1.93029342e-01,\n",
       "        1.29951485e+00,  8.96690224e-01,  9.27985765e-01, -2.48523018e-01,\n",
       "        1.01261898e+00, -3.02302603e-01,  4.01545758e-01, -2.41680047e-01,\n",
       "        4.56182389e-01,  4.83862270e-01,  7.63861611e-01, -1.50284213e-01,\n",
       "        2.86474050e-01,  3.65656991e-01,  4.60862659e-02,  1.10988021e+00,\n",
       "        4.10584906e-01, -6.94139646e-02,  8.04249866e-01,  2.34890643e-01,\n",
       "       -3.67116646e-01, -2.39370043e-02,  1.75139193e+00, -1.28550083e-01,\n",
       "        1.91485991e+00, -1.06574908e-01,  7.04082709e-01,  1.03404511e+00,\n",
       "       -3.47953651e-01,  1.26434252e-01,  6.99094438e-02,  5.21143736e-01,\n",
       "       -4.04719503e-01,  4.19650837e-01, -4.35318695e-01, -2.55339205e-01,\n",
       "       -2.68891232e-01,  1.51060910e-01, -4.71153897e-01,  1.95322607e+00,\n",
       "       -7.68997187e-02, -2.89018403e-01,  8.14413886e-01, -4.59315960e-01,\n",
       "        7.73918501e-01, -1.78888096e-01,  2.95165024e-01,  1.64087327e+00,\n",
       "       -5.51019795e-01, -4.53356818e-01,  1.92640993e-01, -5.34347588e-01,\n",
       "        5.39945164e-01,  8.45066643e-01, -5.88984219e-01, -4.88709932e-01,\n",
       "       -6.15298184e-01, -4.17039528e-01, -8.56375622e-03, -4.94508378e-01,\n",
       "        1.92762185e+00, -4.10892907e-01, -2.20990441e-01, -6.20480629e-01,\n",
       "        1.02048638e-01,  3.74589008e-01,  5.68348178e-01,  1.71431133e+00,\n",
       "       -2.27913759e-01,  5.49386053e-01, -1.43066285e-01, -6.85415194e-01,\n",
       "        1.78871357e+00, -5.45489175e-01, -5.17434337e-01, -4.29252422e-01,\n",
       "        3.03882780e-01, -7.04484449e-01, -5.39931773e-01, -6.10088957e-01,\n",
       "        1.90212475e+00,  1.31091088e+00, -6.65917416e-01,  1.83885071e+00,\n",
       "        1.62872734e+00, -7.36824514e-01, -4.47370893e-01, -2.82336129e-01,\n",
       "       -5.78271154e-01, -4.65248320e-01, -6.70832034e-01, -1.57475358e-01,\n",
       "       -4.82884703e-01, -7.63500045e-01,  1.65304599e+00,  9.48983372e-01,\n",
       "       -5.00280042e-01, -1.85972110e-01, -3.41512421e-01, -7.32284853e-01,\n",
       "       -7.54715332e-01, -7.45823488e-01, -3.08904529e-01, -5.06024923e-01,\n",
       "        1.54445569e+00, -2.34810295e-01, -8.17989371e-01, -6.04852946e-01,\n",
       "       -2.00059791e-01, -8.49271521e-01, -9.17908788e-02, -3.86038596e-01,\n",
       "       -6.60976015e-01, -6.75719870e-01,  3.81987719e-02,  1.42825242e-01,\n",
       "       -8.67952428e-01, -6.95003387e-01, -8.29921047e-01, -3.15834543e-02,\n",
       "       -3.98519317e-01, -7.67852228e-01, -7.13858381e-01,  2.51977981e-01,\n",
       "       -5.23098870e-01, -8.53061267e-01,  1.47326737e+00, -6.99757309e-01,\n",
       "       -5.28736620e-01, -3.54368098e-01, -8.64269812e-01, -3.92292348e-01,\n",
       "       -8.71608261e-01, -9.10054772e-01,  1.67747178e+00, -9.23231842e-01,\n",
       "       -5.56523632e-01, -7.84993132e-01, -9.19977749e-01, -4.77032691e-01,\n",
       "       -2.75627072e-01, -2.62128610e-01, -5.94300577e-01, -7.93402888e-01,\n",
       "       -6.25636292e-01, -3.60755763e-01, -9.51313463e-01,  6.94213298e-01,\n",
       "       -8.37741585e-01, -9.48300414e-01, -9.54299730e-01, -8.33844707e-01,\n",
       "       -8.56824231e-01, -1.13926749e-01, -8.13958581e-01, -9.45260582e-01,\n",
       "       -3.79758062e-01, -6.40942583e-01, -7.18505173e-01,  6.19416019e-02,\n",
       "       -9.63097835e-01, -7.50282801e-01, -6.80580923e-01, -1.01322159e+00,\n",
       "       -3.22028034e-01, -1.64639720e-01, -9.93295286e-01, -5.83641078e-01,\n",
       "       -6.90222682e-01, -1.00840071e+00, -9.98437558e-01,  1.13178843e+00,\n",
       "       -1.03782146e+00, -8.96449180e-01, -8.75237312e-01, -8.99890752e-01,\n",
       "       -9.65976971e-01, -7.72177628e-01, -5.11743021e-01, -8.05816651e-01,\n",
       "       -1.02704144e+00, -9.90683977e-01, -9.71654895e-01,  1.59323361e-01,\n",
       "       -9.42193967e-01, -6.45991115e-01,  1.43803478e+00, -7.23125182e-01,\n",
       "       -1.00347270e+00, -1.06271595e+00, -2.95673894e-01, -7.89211401e-01,\n",
       "       -6.35867269e-01, -1.02025204e+00, -7.27718409e-01,  2.17910435e-01,\n",
       "       -8.60560413e-01, -1.04987366e+00, -1.05367680e+00, -1.03143380e+00,\n",
       "       -1.00096852e+00,  9.91299978e-01, -1.04396808e+00, -1.06781804e+00,\n",
       "       -9.60191916e-01, -1.01559185e+00, -8.09901007e-01, -8.78839580e-01,\n",
       "       -7.41337392e-01, -1.08844069e+00, -8.36958192e-04, -5.99590153e-01,\n",
       "       -9.57259214e-01, -9.77225689e-01, -6.30765172e-01, -1.05918064e+00,\n",
       "       -1.07729911e+00, -1.09995724e+00, -8.21993379e-01,  1.44975220e+00,\n",
       "       -1.03358980e+00, -1.09786819e+00, -1.09453375e+00, -1.10558160e+00,\n",
       "       -1.04793192e+00,  3.30196746e-01, -8.85963768e-01, -9.32833427e-01,\n",
       "       -8.92980825e-01, -1.08024520e+00, -3.28549612e-01, -1.03989712e+00,\n",
       "        1.14278272e+00, -1.07424588e+00, -1.09095826e+00, -1.71777299e-01,\n",
       "       -1.08167807e+00,  4.65382233e-01, -1.08971287e+00, -8.25970605e-01,\n",
       "       -7.97567591e-01, -1.11338874e+00, -1.06946518e+00, -1.09678349e+00,\n",
       "       -1.11495553e+00, -6.56007831e-01, -1.09217687e+00, -9.88045885e-01,\n",
       "       -1.02480509e+00, -1.04194599e+00, -9.74453684e-01, -6.51012864e-01,\n",
       "       -1.11393779e+00, -1.11703119e+00, -1.10953204e+00, -9.35980389e-01,\n",
       "       -5.62000687e-01, -8.82415065e-01,  7.84002173e-01, -1.11924076e+00,\n",
       "       -9.16696873e-01, -1.11542423e+00,  2.26387147e-01,  3.56751755e-01,\n",
       "       -1.02254195e+00, -1.10879552e+00, -3.15479673e-01, -1.01082454e+00,\n",
       "       -5.72874447e-01, -1.11281292e+00, -4.41358185e-01, -1.07267910e+00,\n",
       "       -1.05737281e+00, -9.95879813e-01,  3.92533392e-01, -7.80748080e-01,\n",
       "       -1.07878554e+00, -1.11666962e+00, -1.11586614e+00, -7.09184806e-01,\n",
       "       -8.41611679e-01, -6.19014279e-02, -1.00595009e+00, -9.29659681e-01,\n",
       "       -1.01793534e+00, -1.04596339e+00, -1.11446005e+00, -1.11928093e+00,\n",
       "       -1.11863815e+00, -1.11092474e+00, -9.79970912e-01, -1.08308416e+00,\n",
       "       -8.45454991e-01, -1.07578589e+00, -1.10642525e+00, -1.03571902e+00,\n",
       "       -1.11881223e+00, -1.10724212e+00, -9.03305542e-01, -2.14040340e-01,\n",
       "       -7.76476245e-01, -1.08714173e+00, -1.10288994e+00, -1.06096168e+00,\n",
       "       -1.05553819e+00, -1.09567201e+00,  1.27680316e+00, -8.01705513e-01,\n",
       "       -9.68829325e-01, -1.11628127e+00, -1.11767397e+00, -1.06444343e+00,\n",
       "       -1.11917380e+00, -9.06693548e-01, -1.11024178e+00, -3.73450745e-01,\n",
       "       -1.11843728e+00, -1.11795519e+00, -1.10096159e+00, -1.11820962e+00,\n",
       "       -9.26459153e-01, -9.39100570e-01, -1.10381394e+00, -1.10471116e+00,\n",
       "       -1.07108553e+00, -8.89485688e-01, -1.02925101e+00, -3.35044408e-01,\n",
       "       -1.11908006e+00, -1.62637716e-02, -1.09892611e+00, -1.11736597e+00,\n",
       "       -1.08581599e+00, -1.10803221e+00, -1.11221031e+00, -1.05178862e+00,\n",
       "       -5.67450958e-01, -1.09336870e+00, -9.85381010e-01, -1.11895954e+00,\n",
       "       -1.08446347e+00, -1.11158091e+00, -7.59121080e-01, -9.13389214e-01,\n",
       "       -9.82689352e-01, -1.06614413e+00, -1.10193916e+00, -4.23159366e-01])>"
      ]
     },
     "execution_count": 47,
     "metadata": {},
     "output_type": "execute_result"
    }
   ],
   "source": [
    "y"
   ]
  },
  {
   "cell_type": "code",
   "execution_count": null,
   "metadata": {},
   "outputs": [],
   "source": []
  }
 ],
 "metadata": {
  "kernelspec": {
   "display_name": "conda_python3",
   "language": "python",
   "name": "conda_python3"
  },
  "language_info": {
   "codemirror_mode": {
    "name": "ipython",
    "version": 3
   },
   "file_extension": ".py",
   "mimetype": "text/x-python",
   "name": "python",
   "nbconvert_exporter": "python",
   "pygments_lexer": "ipython3",
   "version": "3.6.10"
  }
 },
 "nbformat": 4,
 "nbformat_minor": 4
}
