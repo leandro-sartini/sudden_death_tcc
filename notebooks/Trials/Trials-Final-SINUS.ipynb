{
 "cells": [
  {
   "cell_type": "code",
   "execution_count": 1,
   "metadata": {},
   "outputs": [],
   "source": [
    "import pandas as pd\n",
    "import numpy as np\n",
    "import matplotlib.pyplot as plt\n",
    "import seaborn as sns\n",
    "import gc\n",
    "import PIL\n",
    "import pathlib\n",
    "import tensorflow as tf\n",
    "import matplotlib.image as mpimg\n",
    "from tensorflow import keras\n",
    "from tensorflow.keras import layers\n",
    "from tensorflow.keras.models import Sequential"
   ]
  },
  {
   "cell_type": "code",
   "execution_count": 2,
   "metadata": {},
   "outputs": [],
   "source": [
    "model = keras.models.load_model('../../models/rnc_image_classification_model_sinus')"
   ]
  },
  {
   "cell_type": "markdown",
   "metadata": {},
   "source": [
    "### Now doing predictions"
   ]
  },
  {
   "cell_type": "code",
   "execution_count": 3,
   "metadata": {},
   "outputs": [],
   "source": [
    "img_height = 200\n",
    "img_width = 400"
   ]
  },
  {
   "cell_type": "code",
   "execution_count": 4,
   "metadata": {},
   "outputs": [],
   "source": [
    "class_names = ['healthy_patients', 'sudden_death_patients']"
   ]
  },
  {
   "cell_type": "code",
   "execution_count": 5,
   "metadata": {},
   "outputs": [],
   "source": [
    "lista_filenames = []\n",
    "\n",
    "for i in range(1,16):\n",
    "    lista_filenames.append(f'chf{i}')"
   ]
  },
  {
   "cell_type": "code",
   "execution_count": 6,
   "metadata": {},
   "outputs": [],
   "source": [
    "df_unhealthy_final = pd.DataFrame(columns = ['score','class','probability_0','probability_1','both_proba','instant','patient','instant_s'],index = range(360))"
   ]
  },
  {
   "cell_type": "code",
   "execution_count": 7,
   "metadata": {},
   "outputs": [],
   "source": [
    "unhealthy = list(pathlib.Path(f'../../data/interim/').glob('sudden_final/*'))\n",
    "df_unhealthy = pd.DataFrame(columns = ['score','class','probability_0','probability_1','both_proba','instant','patient','instant_s'],index = range(len(unhealthy)))"
   ]
  },
  {
   "cell_type": "code",
   "execution_count": 8,
   "metadata": {},
   "outputs": [],
   "source": [
    "img = keras.preprocessing.image.load_img(\n",
    "'test.png', target_size=(img_height, img_width)\n",
    ")"
   ]
  },
  {
   "cell_type": "code",
   "execution_count": 9,
   "metadata": {},
   "outputs": [],
   "source": [
    "img_array = keras.preprocessing.image.img_to_array(img)\n",
    "img_array = tf.expand_dims(img_array, 0) # Create a batch"
   ]
  },
  {
   "cell_type": "code",
   "execution_count": 10,
   "metadata": {},
   "outputs": [],
   "source": [
    "predictions = model.predict(img_array)\n",
    "score = tf.nn.softmax(predictions[0])\n",
    "score_healthy = float(score[0])\n",
    "score_unhealthy = float(score[1])\n",
    "\n",
    "both_scores = [score_healthy,score_unhealthy]"
   ]
  },
  {
   "cell_type": "code",
   "execution_count": 11,
   "metadata": {},
   "outputs": [
    {
     "data": {
      "text/plain": [
       "array([[-3.2841408, -1.8765972]], dtype=float32)"
      ]
     },
     "execution_count": 11,
     "metadata": {},
     "output_type": "execute_result"
    }
   ],
   "source": [
    "predictions"
   ]
  },
  {
   "cell_type": "code",
   "execution_count": 12,
   "metadata": {},
   "outputs": [
    {
     "data": {
      "text/plain": [
       "0.8033782243728638"
      ]
     },
     "execution_count": 12,
     "metadata": {},
     "output_type": "execute_result"
    }
   ],
   "source": [
    "score_unhealthy"
   ]
  },
  {
   "cell_type": "code",
   "execution_count": 13,
   "metadata": {},
   "outputs": [
    {
     "data": {
      "text/plain": [
       "'sudden_death_patients'"
      ]
     },
     "execution_count": 13,
     "metadata": {},
     "output_type": "execute_result"
    }
   ],
   "source": [
    "class_names[np.argmax(score)]"
   ]
  },
  {
   "cell_type": "code",
   "execution_count": null,
   "metadata": {},
   "outputs": [],
   "source": [
    "img = keras.preprocessing.image.load_img(\n",
    "'test.png', target_size=(img_height, img_width)\n",
    ")\n",
    "\n",
    "img_array = keras.preprocessing.image.img_to_array(img)\n",
    "img_array = tf.expand_dims(img_array, 0) # Create a batch\n",
    "\n",
    "predictions = model.predict(img_array)\n",
    "score = tf.nn.softmax(predictions[0])\n",
    "score_healthy = float(score[0])\n",
    "score_unhealthy = float(score[1])\n",
    "\n",
    "both_scores = [score_healthy,score_unhealthy]\n",
    "\n",
    "df_unhealthy['score'].iloc[i] = 100 * np.max(score)\n",
    "df_unhealthy['class'].iloc[i] = class_names[np.argmax(score)]\n",
    "\n",
    "df_unhealthy['probability_0'].iloc[i] = float(score[0])\n",
    "df_unhealthy['probability_1'].iloc[i] = float(score[1])\n",
    "df_unhealthy['both_proba'].iloc[i] = both_scores"
   ]
  },
  {
   "cell_type": "code",
   "execution_count": null,
   "metadata": {},
   "outputs": [],
   "source": []
  },
  {
   "cell_type": "code",
   "execution_count": 8,
   "metadata": {},
   "outputs": [],
   "source": [
    "for i in range(len(unhealthy)):\n",
    "    img = keras.preprocessing.image.load_img(\n",
    "    unhealthy[i], target_size=(img_height, img_width)\n",
    "    )\n",
    "\n",
    "    img_array = keras.preprocessing.image.img_to_array(img)\n",
    "    img_array = tf.expand_dims(img_array, 0) # Create a batch\n",
    "\n",
    "    predictions = model.predict(img_array)\n",
    "    score = tf.nn.softmax(predictions[0])\n",
    "    score_healthy = float(score[0])\n",
    "    score_unhealthy = float(score[1])\n",
    "\n",
    "    both_scores = [score_healthy,score_unhealthy]\n",
    "\n",
    "    df_unhealthy['score'].iloc[i] = 100 * np.max(score)\n",
    "    df_unhealthy['class'].iloc[i] = class_names[np.argmax(score)]\n",
    "\n",
    "    df_unhealthy['probability_0'].iloc[i] = float(score[0])\n",
    "    df_unhealthy['probability_1'].iloc[i] = float(score[1])\n",
    "    df_unhealthy['both_proba'].iloc[i] = both_scores"
   ]
  },
  {
   "cell_type": "code",
   "execution_count": 9,
   "metadata": {},
   "outputs": [],
   "source": [
    "df_unhealthy['true'] = 'sudden_death_patients'\n",
    "\n",
    "df_unhealthy.loc[df_unhealthy['true'] != df_unhealthy['class'],'correct_class'] = 'incorrect'\n",
    "df_unhealthy.loc[df_unhealthy['true'] == df_unhealthy['class'],'correct_class'] = 'correct'"
   ]
  },
  {
   "cell_type": "code",
   "execution_count": 10,
   "metadata": {},
   "outputs": [],
   "source": [
    "barplot = df_unhealthy.groupby('correct_class')['class'].count().reset_index()"
   ]
  },
  {
   "cell_type": "code",
   "execution_count": 11,
   "metadata": {},
   "outputs": [],
   "source": [
    "barplot['class'] = (barplot['class'] / barplot['class'].sum()) * 100"
   ]
  },
  {
   "cell_type": "code",
   "execution_count": 12,
   "metadata": {},
   "outputs": [
    {
     "data": {
      "text/plain": [
       "(array([0, 1]), [Text(0, 0, 'correct'), Text(1, 0, 'incorrect')])"
      ]
     },
     "execution_count": 12,
     "metadata": {},
     "output_type": "execute_result"
    },
    {
     "data": {
      "image/png": "[encoded data removed]",
      "text/plain": [
       "<Figure size 1200x600 with 1 Axes>"
      ]
     },
     "metadata": {
      "needs_background": "light"
     },
     "output_type": "display_data"
    }
   ],
   "source": [
    "plt.figure(figsize=[12,6],dpi = 100)\n",
    "plt.style.use('seaborn-whitegrid')\n",
    "# Set Matplotlib defaults\n",
    "plt.rc('figure', autolayout=True)\n",
    "plt.rc('axes', labelweight='bold', labelsize='large',\n",
    "       titleweight='bold', titlesize=18, titlepad=10)\n",
    "\n",
    "colors = ['green','red']\n",
    "bar_plot = sns.barplot(x='correct_class',y='class',data=barplot,palette=colors)\n",
    "plt.title(f'Final sudden death trial with new patients using 500 images for each patients')\n",
    "plt.xlabel('Correct x Incorrect')\n",
    "plt.ylabel('Percentage')\n",
    "plt.xticks(rotation=90)"
   ]
  }
 ],
 "metadata": {
  "kernelspec": {
   "display_name": "Python 3",
   "language": "python",
   "name": "python3"
  },
  "language_info": {
   "codemirror_mode": {
    "name": "ipython",
    "version": 3
   },
   "file_extension": ".py",
   "mimetype": "text/x-python",
   "name": "python",
   "nbconvert_exporter": "python",
   "pygments_lexer": "ipython3",
   "version": "3.8.5"
  }
 },
 "nbformat": 4,
 "nbformat_minor": 4
}
