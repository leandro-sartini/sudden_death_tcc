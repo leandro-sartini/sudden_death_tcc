{
 "cells": [
  {
   "cell_type": "code",
   "execution_count": 2,
   "metadata": {},
   "outputs": [],
   "source": [
    "import wfdb #WaveForm-Database package. A library of tools for reading, writing, and processing WFDB signals and annotations.\n",
    "import pandas as pd\n",
    "import numpy as np\n",
    "import glob\n",
    "import matplotlib.pyplot as plt\n",
    "import seaborn as sns\n",
    "import urllib\n",
    "import csv\n",
    "import gc"
   ]
  },
  {
   "cell_type": "code",
   "execution_count": 5,
   "metadata": {},
   "outputs": [],
   "source": [
    "for i in range(1,16):\n",
    "    if i < 10:\n",
    "        record = wfdb.rdsamp(f'../../data/origin/sudden_death_final/chf0{i}')\n",
    "    else:\n",
    "        record = wfdb.rdsamp(f'../../data/origin/sudden_death_final/chf{i}')\n",
    "    record=np.asarray(record[0])\n",
    "    \n",
    "    path=f'../../data/raw/sudden_death_final/chf{i}.txt'\n",
    "    pd.DataFrame(record).to_csv(path,sep=';')"
   ]
  },
  {
   "cell_type": "code",
   "execution_count": 10,
   "metadata": {},
   "outputs": [],
   "source": [
    "lista_filenames = []\n",
    "for i in range(1,16):\n",
    "    lista_filenames.append(f'chf{i}')"
   ]
  },
  {
   "cell_type": "code",
   "execution_count": 11,
   "metadata": {},
   "outputs": [
    {
     "data": {
      "text/plain": [
       "['chf1',\n",
       " 'chf2',\n",
       " 'chf3',\n",
       " 'chf4',\n",
       " 'chf5',\n",
       " 'chf6',\n",
       " 'chf7',\n",
       " 'chf8',\n",
       " 'chf9',\n",
       " 'chf10',\n",
       " 'chf11',\n",
       " 'chf12',\n",
       " 'chf13',\n",
       " 'chf14',\n",
       " 'chf15']"
      ]
     },
     "execution_count": 11,
     "metadata": {},
     "output_type": "execute_result"
    }
   ],
   "source": [
    "lista_filenames"
   ]
  },
  {
   "cell_type": "code",
   "execution_count": 12,
   "metadata": {},
   "outputs": [],
   "source": [
    "import random"
   ]
  },
  {
   "cell_type": "code",
   "execution_count": 16,
   "metadata": {},
   "outputs": [],
   "source": [
    "for filename in lista_filenames:\n",
    "    \n",
    "    plot = pd.read_csv(f'../../data/raw/sudden_death_final/{filename}.txt',sep=';')\n",
    "    plot.drop(columns = 'Unnamed: 0',inplace = True)\n",
    "    plot['time'] = (plot.index + 1) * 0.004\n",
    "    i = 0\n",
    "    \n",
    "    random_numbers = []\n",
    "    while len(random_numbers) != 500:\n",
    "        x = random.randint(0,3000)\n",
    "        if x in random_numbers:\n",
    "            pass\n",
    "        else:\n",
    "            random_numbers.append(x)\n",
    "    \n",
    "    for i in random_numbers:\n",
    "        row_min = int(i * 1250)\n",
    "        row_max = int((i + 1) * 1250)\n",
    "        time_min = int(row_min * 0.004)\n",
    "        time_max = int(row_max * 0.004)\n",
    "        plt.figure(figsize=[20,10])\n",
    "        line_plot = sns.lineplot(data = plot.iloc[row_min:row_max],x='time',y='0')\n",
    "        plt.axis('off')\n",
    "        fig = line_plot.get_figure()\n",
    "        #fig.savefig(f'../../data/interim/train_data/sudden_death_patients/{filename}_{time_min}s-{time_max}s.png')\n",
    "        fig.savefig(f'../../data/interim/sudden_final/{filename}_{time_min}s-{time_max}s.png')\n",
    "        plt.close(fig)"
   ]
  }
 ],
 "metadata": {
  "kernelspec": {
   "display_name": "Python 3",
   "language": "python",
   "name": "python3"
  },
  "language_info": {
   "codemirror_mode": {
    "name": "ipython",
    "version": 3
   },
   "file_extension": ".py",
   "mimetype": "text/x-python",
   "name": "python",
   "nbconvert_exporter": "python",
   "pygments_lexer": "ipython3",
   "version": "3.8.5"
  }
 },
 "nbformat": 4,
 "nbformat_minor": 4
}
