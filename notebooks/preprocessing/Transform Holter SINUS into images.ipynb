{
 "cells": [
  {
   "cell_type": "code",
   "execution_count": 47,
   "metadata": {},
   "outputs": [],
   "source": [
    "import wfdb #WaveForm-Database package. A library of tools for reading, writing, and processing WFDB signals and annotations.\n",
    "import pandas as pd\n",
    "import numpy as np\n",
    "import glob\n",
    "import matplotlib.pyplot as plt\n",
    "import seaborn as sns\n",
    "import urllib\n",
    "import csv\n",
    "import gc\n"
   ]
  },
  {
   "cell_type": "code",
   "execution_count": 48,
   "metadata": {},
   "outputs": [],
   "source": [
    "df = pd.read_csv('holter_list.csv',sep=',')"
   ]
  },
  {
   "cell_type": "code",
   "execution_count": 49,
   "metadata": {},
   "outputs": [
    {
     "data": {
      "text/html": [
       "<div>\n",
       "<style scoped>\n",
       "    .dataframe tbody tr th:only-of-type {\n",
       "        vertical-align: middle;\n",
       "    }\n",
       "\n",
       "    .dataframe tbody tr th {\n",
       "        vertical-align: top;\n",
       "    }\n",
       "\n",
       "    .dataframe thead th {\n",
       "        text-align: right;\n",
       "    }\n",
       "</style>\n",
       "<table border=\"1\" class=\"dataframe\">\n",
       "  <thead>\n",
       "    <tr style=\"text-align: right;\">\n",
       "      <th></th>\n",
       "      <th>Signals</th>\n",
       "      <th>Header</th>\n",
       "      <th>Unaudited</th>\n",
       "      <th>Audited</th>\n",
       "      <th>Signal</th>\n",
       "      <th>VF Onset</th>\n",
       "    </tr>\n",
       "  </thead>\n",
       "  <tbody>\n",
       "    <tr>\n",
       "      <th>0</th>\n",
       "      <td>30.dat</td>\n",
       "      <td>30.hea</td>\n",
       "      <td>30.ari</td>\n",
       "      <td>30.atr</td>\n",
       "      <td>24:33:17</td>\n",
       "      <td>07:54:33</td>\n",
       "    </tr>\n",
       "    <tr>\n",
       "      <th>1</th>\n",
       "      <td>31.dat</td>\n",
       "      <td>31.hea</td>\n",
       "      <td>31.ari</td>\n",
       "      <td>31.atr</td>\n",
       "      <td>13:58:40</td>\n",
       "      <td>13:42:24</td>\n",
       "    </tr>\n",
       "    <tr>\n",
       "      <th>2</th>\n",
       "      <td>32.dat</td>\n",
       "      <td>32.hea</td>\n",
       "      <td>32.ari</td>\n",
       "      <td>32.atr</td>\n",
       "      <td>24:20:00</td>\n",
       "      <td>16:45:18</td>\n",
       "    </tr>\n",
       "    <tr>\n",
       "      <th>3</th>\n",
       "      <td>33.dat</td>\n",
       "      <td>33.hea</td>\n",
       "      <td>33.ari</td>\n",
       "      <td>NaN</td>\n",
       "      <td>24:33:00</td>\n",
       "      <td>04:46:19</td>\n",
       "    </tr>\n",
       "    <tr>\n",
       "      <th>4</th>\n",
       "      <td>34.dat</td>\n",
       "      <td>34.hea</td>\n",
       "      <td>34.ari</td>\n",
       "      <td>34.atr</td>\n",
       "      <td>07:05:20</td>\n",
       "      <td>06:35:44</td>\n",
       "    </tr>\n",
       "    <tr>\n",
       "      <th>5</th>\n",
       "      <td>35.dat</td>\n",
       "      <td>35.hea</td>\n",
       "      <td>35.ari</td>\n",
       "      <td>35.atr</td>\n",
       "      <td>24:52:00</td>\n",
       "      <td>24:34:56</td>\n",
       "    </tr>\n",
       "    <tr>\n",
       "      <th>6</th>\n",
       "      <td>36.dat</td>\n",
       "      <td>36.hea</td>\n",
       "      <td>36.ari</td>\n",
       "      <td>36.atr</td>\n",
       "      <td>20:21:20</td>\n",
       "      <td>18:59:01</td>\n",
       "    </tr>\n",
       "    <tr>\n",
       "      <th>7</th>\n",
       "      <td>37.dat</td>\n",
       "      <td>37.hea</td>\n",
       "      <td>37.ari</td>\n",
       "      <td>NaN</td>\n",
       "      <td>25:08:00</td>\n",
       "      <td>01:31:13</td>\n",
       "    </tr>\n",
       "    <tr>\n",
       "      <th>8</th>\n",
       "      <td>38.dat</td>\n",
       "      <td>38.hea</td>\n",
       "      <td>38.ari</td>\n",
       "      <td>NaN</td>\n",
       "      <td>18:18:25</td>\n",
       "      <td>08:01:54</td>\n",
       "    </tr>\n",
       "    <tr>\n",
       "      <th>9</th>\n",
       "      <td>39.dat</td>\n",
       "      <td>39.hea</td>\n",
       "      <td>39.ari</td>\n",
       "      <td>NaN</td>\n",
       "      <td>05:47:00</td>\n",
       "      <td>04:37:51</td>\n",
       "    </tr>\n",
       "    <tr>\n",
       "      <th>10</th>\n",
       "      <td>40.dat</td>\n",
       "      <td>40.hea</td>\n",
       "      <td>40.ari</td>\n",
       "      <td>NaN</td>\n",
       "      <td>24:53:00</td>\n",
       "      <td>00:00:00</td>\n",
       "    </tr>\n",
       "    <tr>\n",
       "      <th>11</th>\n",
       "      <td>41.dat</td>\n",
       "      <td>41.hea</td>\n",
       "      <td>41.ari</td>\n",
       "      <td>41.atr</td>\n",
       "      <td>03:56:00</td>\n",
       "      <td>02:59:24</td>\n",
       "    </tr>\n",
       "    <tr>\n",
       "      <th>12</th>\n",
       "      <td>42.dat</td>\n",
       "      <td>42.hea</td>\n",
       "      <td>42.ari</td>\n",
       "      <td>NaN</td>\n",
       "      <td>25:08:10</td>\n",
       "      <td>00:00:00</td>\n",
       "    </tr>\n",
       "    <tr>\n",
       "      <th>13</th>\n",
       "      <td>43.dat</td>\n",
       "      <td>43.hea</td>\n",
       "      <td>43.ari</td>\n",
       "      <td>NaN</td>\n",
       "      <td>23:07:50</td>\n",
       "      <td>15:37:11</td>\n",
       "    </tr>\n",
       "    <tr>\n",
       "      <th>14</th>\n",
       "      <td>44.dat</td>\n",
       "      <td>44.hea</td>\n",
       "      <td>44.ari</td>\n",
       "      <td>NaN</td>\n",
       "      <td>23:20:00</td>\n",
       "      <td>19:38:45</td>\n",
       "    </tr>\n",
       "    <tr>\n",
       "      <th>15</th>\n",
       "      <td>45.dat</td>\n",
       "      <td>45.hea</td>\n",
       "      <td>45.ari</td>\n",
       "      <td>45.atr</td>\n",
       "      <td>24:09:20</td>\n",
       "      <td>18:09:17</td>\n",
       "    </tr>\n",
       "    <tr>\n",
       "      <th>16</th>\n",
       "      <td>46.dat</td>\n",
       "      <td>46.hea</td>\n",
       "      <td>46.ari</td>\n",
       "      <td>46.atr</td>\n",
       "      <td>04:15:10</td>\n",
       "      <td>03:41:47</td>\n",
       "    </tr>\n",
       "    <tr>\n",
       "      <th>17</th>\n",
       "      <td>47.dat</td>\n",
       "      <td>47.hea</td>\n",
       "      <td>47.ari</td>\n",
       "      <td>NaN</td>\n",
       "      <td>23:35:50</td>\n",
       "      <td>06:13:01</td>\n",
       "    </tr>\n",
       "    <tr>\n",
       "      <th>18</th>\n",
       "      <td>48.dat</td>\n",
       "      <td>48.hea</td>\n",
       "      <td>48.ari</td>\n",
       "      <td>NaN</td>\n",
       "      <td>24:36:15</td>\n",
       "      <td>02:29:40</td>\n",
       "    </tr>\n",
       "    <tr>\n",
       "      <th>19</th>\n",
       "      <td>49.dat</td>\n",
       "      <td>49.hea</td>\n",
       "      <td>49.ari</td>\n",
       "      <td>49.atr</td>\n",
       "      <td>25:01:40</td>\n",
       "      <td>00:00:00</td>\n",
       "    </tr>\n",
       "    <tr>\n",
       "      <th>20</th>\n",
       "      <td>50.dat</td>\n",
       "      <td>50.hea</td>\n",
       "      <td>50.ari</td>\n",
       "      <td>NaN</td>\n",
       "      <td>23:07:38</td>\n",
       "      <td>11:45:43</td>\n",
       "    </tr>\n",
       "    <tr>\n",
       "      <th>21</th>\n",
       "      <td>51.dat</td>\n",
       "      <td>51.hea</td>\n",
       "      <td>51.ari</td>\n",
       "      <td>51.atr</td>\n",
       "      <td>25:08:30</td>\n",
       "      <td>22:58:23</td>\n",
       "    </tr>\n",
       "    <tr>\n",
       "      <th>22</th>\n",
       "      <td>52.dat</td>\n",
       "      <td>52.hea</td>\n",
       "      <td>52.ari</td>\n",
       "      <td>52.atr</td>\n",
       "      <td>07:31:05</td>\n",
       "      <td>02:32:40</td>\n",
       "    </tr>\n",
       "  </tbody>\n",
       "</table>\n",
       "</div>"
      ],
      "text/plain": [
       "   Signals  Header Unaudited Audited    Signal  VF Onset\n",
       "0   30.dat  30.hea    30.ari  30.atr  24:33:17  07:54:33\n",
       "1   31.dat  31.hea    31.ari  31.atr  13:58:40  13:42:24\n",
       "2   32.dat  32.hea    32.ari  32.atr  24:20:00  16:45:18\n",
       "3   33.dat  33.hea    33.ari     NaN  24:33:00  04:46:19\n",
       "4   34.dat  34.hea    34.ari  34.atr  07:05:20  06:35:44\n",
       "5   35.dat  35.hea    35.ari  35.atr  24:52:00  24:34:56\n",
       "6   36.dat  36.hea    36.ari  36.atr  20:21:20  18:59:01\n",
       "7   37.dat  37.hea    37.ari     NaN  25:08:00  01:31:13\n",
       "8   38.dat  38.hea    38.ari     NaN  18:18:25  08:01:54\n",
       "9   39.dat  39.hea    39.ari     NaN  05:47:00  04:37:51\n",
       "10  40.dat  40.hea    40.ari     NaN  24:53:00  00:00:00\n",
       "11  41.dat  41.hea    41.ari  41.atr  03:56:00  02:59:24\n",
       "12  42.dat  42.hea    42.ari     NaN  25:08:10  00:00:00\n",
       "13  43.dat  43.hea    43.ari     NaN  23:07:50  15:37:11\n",
       "14  44.dat  44.hea    44.ari     NaN  23:20:00  19:38:45\n",
       "15  45.dat  45.hea    45.ari  45.atr  24:09:20  18:09:17\n",
       "16  46.dat  46.hea    46.ari  46.atr  04:15:10  03:41:47\n",
       "17  47.dat  47.hea    47.ari     NaN  23:35:50  06:13:01\n",
       "18  48.dat  48.hea    48.ari     NaN  24:36:15  02:29:40\n",
       "19  49.dat  49.hea    49.ari  49.atr  25:01:40  00:00:00\n",
       "20  50.dat  50.hea    50.ari     NaN  23:07:38  11:45:43\n",
       "21  51.dat  51.hea    51.ari  51.atr  25:08:30  22:58:23\n",
       "22  52.dat  52.hea    52.ari  52.atr  07:31:05  02:32:40"
      ]
     },
     "execution_count": 49,
     "metadata": {},
     "output_type": "execute_result"
    }
   ],
   "source": [
    "df"
   ]
  },
  {
   "cell_type": "code",
   "execution_count": 50,
   "metadata": {},
   "outputs": [],
   "source": [
    "df['filename'] = df['Signals'].str.replace(r'(\\S+).dat',r'\\1',regex=True) + '.txt'"
   ]
  },
  {
   "cell_type": "code",
   "execution_count": 51,
   "metadata": {},
   "outputs": [],
   "source": [
    "df['signal_time'] = (df['Signal'].str.replace(r'(\\S+):(\\S+):(\\S+)',r'\\1',regex=True).astype(int) * 3600\\\n",
    "                    + df['Signal'].str.replace(r'(\\S+):(\\S+):(\\S+)',r'\\2',regex=True).astype(int) * 60\\\n",
    "                    + df['Signal'].str.replace(r'(\\S+):(\\S+):(\\S+)',r'\\3',regex=True).astype(int)) * 250"
   ]
  },
  {
   "cell_type": "code",
   "execution_count": 52,
   "metadata": {},
   "outputs": [],
   "source": [
    "df['ventricular_fibrilation'] = (df['VF Onset'].str.replace(r'(\\S+):(\\S+):(\\S+)',r'\\1',regex=True).astype(int) * 3600\\\n",
    "                    + df['VF Onset'].str.replace(r'(\\S+):(\\S+):(\\S+)',r'\\2',regex=True).astype(int) * 60\\\n",
    "                    + df['VF Onset'].str.replace(r'(\\S+):(\\S+):(\\S+)',r'\\3',regex=True).astype(int)) * 250"
   ]
  },
  {
   "cell_type": "code",
   "execution_count": 53,
   "metadata": {},
   "outputs": [],
   "source": [
    "df.drop(columns = ['Signals','Header','Unaudited','Audited','Signal','VF Onset'],inplace = True)"
   ]
  },
  {
   "cell_type": "code",
   "execution_count": 54,
   "metadata": {},
   "outputs": [
    {
     "data": {
      "text/html": [
       "<div>\n",
       "<style scoped>\n",
       "    .dataframe tbody tr th:only-of-type {\n",
       "        vertical-align: middle;\n",
       "    }\n",
       "\n",
       "    .dataframe tbody tr th {\n",
       "        vertical-align: top;\n",
       "    }\n",
       "\n",
       "    .dataframe thead th {\n",
       "        text-align: right;\n",
       "    }\n",
       "</style>\n",
       "<table border=\"1\" class=\"dataframe\">\n",
       "  <thead>\n",
       "    <tr style=\"text-align: right;\">\n",
       "      <th></th>\n",
       "      <th>filename</th>\n",
       "      <th>signal_time</th>\n",
       "      <th>ventricular_fibrilation</th>\n",
       "    </tr>\n",
       "  </thead>\n",
       "  <tbody>\n",
       "    <tr>\n",
       "      <th>0</th>\n",
       "      <td>30.txt</td>\n",
       "      <td>22099250</td>\n",
       "      <td>7118250</td>\n",
       "    </tr>\n",
       "    <tr>\n",
       "      <th>1</th>\n",
       "      <td>31.txt</td>\n",
       "      <td>12580000</td>\n",
       "      <td>12336000</td>\n",
       "    </tr>\n",
       "    <tr>\n",
       "      <th>2</th>\n",
       "      <td>32.txt</td>\n",
       "      <td>21900000</td>\n",
       "      <td>15079500</td>\n",
       "    </tr>\n",
       "    <tr>\n",
       "      <th>3</th>\n",
       "      <td>33.txt</td>\n",
       "      <td>22095000</td>\n",
       "      <td>4294750</td>\n",
       "    </tr>\n",
       "    <tr>\n",
       "      <th>4</th>\n",
       "      <td>34.txt</td>\n",
       "      <td>6380000</td>\n",
       "      <td>5936000</td>\n",
       "    </tr>\n",
       "    <tr>\n",
       "      <th>5</th>\n",
       "      <td>35.txt</td>\n",
       "      <td>22380000</td>\n",
       "      <td>22124000</td>\n",
       "    </tr>\n",
       "    <tr>\n",
       "      <th>6</th>\n",
       "      <td>36.txt</td>\n",
       "      <td>18320000</td>\n",
       "      <td>17085250</td>\n",
       "    </tr>\n",
       "    <tr>\n",
       "      <th>7</th>\n",
       "      <td>37.txt</td>\n",
       "      <td>22620000</td>\n",
       "      <td>1368250</td>\n",
       "    </tr>\n",
       "    <tr>\n",
       "      <th>8</th>\n",
       "      <td>38.txt</td>\n",
       "      <td>16476250</td>\n",
       "      <td>7228500</td>\n",
       "    </tr>\n",
       "    <tr>\n",
       "      <th>9</th>\n",
       "      <td>39.txt</td>\n",
       "      <td>5205000</td>\n",
       "      <td>4167750</td>\n",
       "    </tr>\n",
       "    <tr>\n",
       "      <th>10</th>\n",
       "      <td>40.txt</td>\n",
       "      <td>22395000</td>\n",
       "      <td>0</td>\n",
       "    </tr>\n",
       "    <tr>\n",
       "      <th>11</th>\n",
       "      <td>41.txt</td>\n",
       "      <td>3540000</td>\n",
       "      <td>2691000</td>\n",
       "    </tr>\n",
       "    <tr>\n",
       "      <th>12</th>\n",
       "      <td>42.txt</td>\n",
       "      <td>22622500</td>\n",
       "      <td>0</td>\n",
       "    </tr>\n",
       "    <tr>\n",
       "      <th>13</th>\n",
       "      <td>43.txt</td>\n",
       "      <td>20817500</td>\n",
       "      <td>14057750</td>\n",
       "    </tr>\n",
       "    <tr>\n",
       "      <th>14</th>\n",
       "      <td>44.txt</td>\n",
       "      <td>21000000</td>\n",
       "      <td>17681250</td>\n",
       "    </tr>\n",
       "    <tr>\n",
       "      <th>15</th>\n",
       "      <td>45.txt</td>\n",
       "      <td>21740000</td>\n",
       "      <td>16339250</td>\n",
       "    </tr>\n",
       "    <tr>\n",
       "      <th>16</th>\n",
       "      <td>46.txt</td>\n",
       "      <td>3827500</td>\n",
       "      <td>3326750</td>\n",
       "    </tr>\n",
       "    <tr>\n",
       "      <th>17</th>\n",
       "      <td>47.txt</td>\n",
       "      <td>21237500</td>\n",
       "      <td>5595250</td>\n",
       "    </tr>\n",
       "    <tr>\n",
       "      <th>18</th>\n",
       "      <td>48.txt</td>\n",
       "      <td>22143750</td>\n",
       "      <td>2245000</td>\n",
       "    </tr>\n",
       "    <tr>\n",
       "      <th>19</th>\n",
       "      <td>49.txt</td>\n",
       "      <td>22525000</td>\n",
       "      <td>0</td>\n",
       "    </tr>\n",
       "    <tr>\n",
       "      <th>20</th>\n",
       "      <td>50.txt</td>\n",
       "      <td>20814500</td>\n",
       "      <td>10585750</td>\n",
       "    </tr>\n",
       "    <tr>\n",
       "      <th>21</th>\n",
       "      <td>51.txt</td>\n",
       "      <td>22627500</td>\n",
       "      <td>20675750</td>\n",
       "    </tr>\n",
       "    <tr>\n",
       "      <th>22</th>\n",
       "      <td>52.txt</td>\n",
       "      <td>6766250</td>\n",
       "      <td>2290000</td>\n",
       "    </tr>\n",
       "  </tbody>\n",
       "</table>\n",
       "</div>"
      ],
      "text/plain": [
       "   filename  signal_time  ventricular_fibrilation\n",
       "0    30.txt     22099250                  7118250\n",
       "1    31.txt     12580000                 12336000\n",
       "2    32.txt     21900000                 15079500\n",
       "3    33.txt     22095000                  4294750\n",
       "4    34.txt      6380000                  5936000\n",
       "5    35.txt     22380000                 22124000\n",
       "6    36.txt     18320000                 17085250\n",
       "7    37.txt     22620000                  1368250\n",
       "8    38.txt     16476250                  7228500\n",
       "9    39.txt      5205000                  4167750\n",
       "10   40.txt     22395000                        0\n",
       "11   41.txt      3540000                  2691000\n",
       "12   42.txt     22622500                        0\n",
       "13   43.txt     20817500                 14057750\n",
       "14   44.txt     21000000                 17681250\n",
       "15   45.txt     21740000                 16339250\n",
       "16   46.txt      3827500                  3326750\n",
       "17   47.txt     21237500                  5595250\n",
       "18   48.txt     22143750                  2245000\n",
       "19   49.txt     22525000                        0\n",
       "20   50.txt     20814500                 10585750\n",
       "21   51.txt     22627500                 20675750\n",
       "22   52.txt      6766250                  2290000"
      ]
     },
     "execution_count": 54,
     "metadata": {},
     "output_type": "execute_result"
    }
   ],
   "source": [
    "df"
   ]
  },
  {
   "cell_type": "code",
   "execution_count": 55,
   "metadata": {},
   "outputs": [
    {
     "data": {
      "text/plain": [
       "0      5694.6\n",
       "1      9868.8\n",
       "2     12063.6\n",
       "3      3435.8\n",
       "4      4748.8\n",
       "5     17699.2\n",
       "6     13668.2\n",
       "7      1094.6\n",
       "8      5782.8\n",
       "9      3334.2\n",
       "10        0.0\n",
       "11     2152.8\n",
       "12        0.0\n",
       "13    11246.2\n",
       "14    14145.0\n",
       "15    13071.4\n",
       "16     2661.4\n",
       "17     4476.2\n",
       "18     1796.0\n",
       "19        0.0\n",
       "20     8468.6\n",
       "21    16540.6\n",
       "22     1832.0\n",
       "Name: ventricular_fibrilation, dtype: float64"
      ]
     },
     "execution_count": 55,
     "metadata": {},
     "output_type": "execute_result"
    }
   ],
   "source": [
    "df['ventricular_fibrilation'] / 1250"
   ]
  },
  {
   "cell_type": "code",
   "execution_count": 56,
   "metadata": {},
   "outputs": [],
   "source": [
    "df['image_number'] = np.ceil(df['ventricular_fibrilation'] / 1250)"
   ]
  },
  {
   "cell_type": "code",
   "execution_count": 57,
   "metadata": {},
   "outputs": [
    {
     "data": {
      "text/plain": [
       "153789.0"
      ]
     },
     "execution_count": 57,
     "metadata": {},
     "output_type": "execute_result"
    }
   ],
   "source": [
    "df['image_number'].sum()"
   ]
  },
  {
   "cell_type": "code",
   "execution_count": 58,
   "metadata": {},
   "outputs": [],
   "source": [
    "lista_filenames = list(df['filename'].unique())"
   ]
  },
  {
   "cell_type": "code",
   "execution_count": 59,
   "metadata": {},
   "outputs": [
    {
     "data": {
      "text/plain": [
       "['30.txt',\n",
       " '31.txt',\n",
       " '32.txt',\n",
       " '33.txt',\n",
       " '34.txt',\n",
       " '35.txt',\n",
       " '36.txt',\n",
       " '37.txt',\n",
       " '38.txt',\n",
       " '39.txt',\n",
       " '40.txt',\n",
       " '41.txt',\n",
       " '42.txt',\n",
       " '43.txt',\n",
       " '44.txt',\n",
       " '45.txt',\n",
       " '46.txt',\n",
       " '47.txt',\n",
       " '48.txt',\n",
       " '49.txt',\n",
       " '50.txt',\n",
       " '51.txt',\n",
       " '52.txt']"
      ]
     },
     "execution_count": 59,
     "metadata": {},
     "output_type": "execute_result"
    }
   ],
   "source": [
    "lista_filenames"
   ]
  },
  {
   "cell_type": "code",
   "execution_count": 60,
   "metadata": {},
   "outputs": [],
   "source": [
    "lista_filenames.remove('32.txt')\n",
    "lista_filenames.remove('35.txt')\n",
    "lista_filenames.remove('36.txt')\n",
    "lista_filenames.remove('37.txt')\n",
    "lista_filenames.remove('40.txt')\n",
    "lista_filenames.remove('43.txt')\n",
    "lista_filenames.remove('49.txt')\n",
    "lista_filenames.remove('50.txt')\n",
    "lista_filenames.remove('51.txt')\n",
    "lista_filenames.remove('42.txt')"
   ]
  },
  {
   "cell_type": "code",
   "execution_count": 61,
   "metadata": {},
   "outputs": [
    {
     "data": {
      "text/plain": [
       "['30.txt',\n",
       " '31.txt',\n",
       " '33.txt',\n",
       " '34.txt',\n",
       " '38.txt',\n",
       " '39.txt',\n",
       " '41.txt',\n",
       " '44.txt',\n",
       " '45.txt',\n",
       " '46.txt',\n",
       " '47.txt',\n",
       " '48.txt',\n",
       " '52.txt']"
      ]
     },
     "execution_count": 61,
     "metadata": {},
     "output_type": "execute_result"
    }
   ],
   "source": [
    "lista_filenames"
   ]
  },
  {
   "cell_type": "code",
   "execution_count": 62,
   "metadata": {},
   "outputs": [],
   "source": [
    "treino = lista_filenames"
   ]
  },
  {
   "cell_type": "code",
   "execution_count": 63,
   "metadata": {},
   "outputs": [
    {
     "data": {
      "text/plain": [
       "['30.txt',\n",
       " '31.txt',\n",
       " '33.txt',\n",
       " '34.txt',\n",
       " '38.txt',\n",
       " '39.txt',\n",
       " '41.txt',\n",
       " '44.txt',\n",
       " '45.txt',\n",
       " '46.txt',\n",
       " '47.txt',\n",
       " '48.txt',\n",
       " '52.txt']"
      ]
     },
     "execution_count": 63,
     "metadata": {},
     "output_type": "execute_result"
    }
   ],
   "source": [
    "treino"
   ]
  },
  {
   "cell_type": "code",
   "execution_count": 64,
   "metadata": {},
   "outputs": [],
   "source": [
    "treino.remove('47.txt')\n",
    "treino.remove('48.txt')\n",
    "treino.remove('52.txt')"
   ]
  },
  {
   "cell_type": "code",
   "execution_count": 65,
   "metadata": {},
   "outputs": [],
   "source": [
    "treino.remove('30.txt')\n",
    "treino.remove('31.txt')\n",
    "treino.remove('33.txt')\n",
    "treino.remove('34.txt')\n",
    "treino.remove('38.txt')\n",
    "treino.remove('39.txt')\n",
    "treino.remove('41.txt')"
   ]
  },
  {
   "cell_type": "code",
   "execution_count": 66,
   "metadata": {},
   "outputs": [
    {
     "data": {
      "text/plain": [
       "['44.txt', '45.txt', '46.txt']"
      ]
     },
     "execution_count": 66,
     "metadata": {},
     "output_type": "execute_result"
    }
   ],
   "source": [
    "treino"
   ]
  },
  {
   "cell_type": "code",
   "execution_count": 68,
   "metadata": {},
   "outputs": [],
   "source": [
    "import random"
   ]
  },
  {
   "cell_type": "code",
   "execution_count": 69,
   "metadata": {},
   "outputs": [
    {
     "name": "stdout",
     "output_type": "stream",
     "text": [
      "Garbage Collected\n",
      "Garbage Collected\n"
     ]
    }
   ],
   "source": [
    "for filename in treino:\n",
    "    \n",
    "    plot = pd.read_csv(f'../../data/raw/sudden_death_patients/{filename}',sep=';')\n",
    "    plot.drop(columns = 'Unnamed: 0',inplace = True)\n",
    "    plot['time'] = (plot.index + 1) * 0.004\n",
    "    i = 0\n",
    "    total_length= int(df.loc[df['filename'] == filename,'image_number'].values[0])\n",
    "    random_numbers = []\n",
    "    while len(random_numbers) != 400:\n",
    "        x = random.randint(0,total_length)\n",
    "        if x in random_numbers:\n",
    "            pass\n",
    "        else:\n",
    "            random_numbers.append(x)   \n",
    "    for i in random_numbers:\n",
    "        row_min = int(i * 1250)\n",
    "        row_max = int((i + 1) * 1250)\n",
    "        time_min = int(row_min * 0.004)\n",
    "        time_max = int(row_max * 0.004)\n",
    "        plt.figure(figsize=[20,10])\n",
    "        line_plot = sns.lineplot(data = plot.iloc[row_min:row_max],x='time',y='0')\n",
    "        plt.axis('off')\n",
    "        fig = line_plot.get_figure()\n",
    "        fig.savefig(f'../../data/interim/train_data/sudden_death_patients/{filename}_{time_min}s-{time_max}s.png')\n",
    "        #fig.savefig(f'../../../sudden_death_validation_plus/{filename}_{time_min}s-{time_max}s.png')\n",
    "        plt.close(fig)\n",
    "        if (i == int(total_length * 0.1)) or (i == int(total_length * 0.2)) or (i == int(total_length * 0.3))\\\n",
    "        or (i == int(total_length * 0.4)) or (i == int(total_length * 0.5)) or (i == int(total_length * 0.6))\\\n",
    "        or (i == int(total_length * 0.7)) or (i == int(total_length * 0.8)) or (i == int(total_length * 0.9))\\\n",
    "        or (i == total_length - 1):\n",
    "            gc.collect()\n",
    "            print('Garbage Collected')"
   ]
  },
  {
   "cell_type": "markdown",
   "metadata": {},
   "source": [
    "## Dados extras para a validação"
   ]
  },
  {
   "cell_type": "code",
   "execution_count": 71,
   "metadata": {},
   "outputs": [],
   "source": [
    "lista_filenames.append('47.txt')\n",
    "lista_filenames.append('48.txt')\n",
    "lista_filenames.append('52.txt')"
   ]
  },
  {
   "cell_type": "code",
   "execution_count": 72,
   "metadata": {},
   "outputs": [
    {
     "ename": "ValueError",
     "evalue": "list.remove(x): x not in list",
     "output_type": "error",
     "traceback": [
      "\u001b[1;31m---------------------------------------------------------------------------\u001b[0m",
      "\u001b[1;31mValueError\u001b[0m                                Traceback (most recent call last)",
      "\u001b[1;32m<ipython-input-72-e8445fcc18db>\u001b[0m in \u001b[0;36m<module>\u001b[1;34m\u001b[0m\n\u001b[0;32m      1\u001b[0m \u001b[0mlista_filenames\u001b[0m\u001b[1;33m.\u001b[0m\u001b[0mremove\u001b[0m\u001b[1;33m(\u001b[0m\u001b[1;34m'44.txt'\u001b[0m\u001b[1;33m)\u001b[0m\u001b[1;33m\u001b[0m\u001b[1;33m\u001b[0m\u001b[0m\n\u001b[0;32m      2\u001b[0m \u001b[0mlista_filenames\u001b[0m\u001b[1;33m.\u001b[0m\u001b[0mremove\u001b[0m\u001b[1;33m(\u001b[0m\u001b[1;34m'45.txt'\u001b[0m\u001b[1;33m)\u001b[0m\u001b[1;33m\u001b[0m\u001b[1;33m\u001b[0m\u001b[0m\n\u001b[1;32m----> 3\u001b[1;33m \u001b[0mlista_filenames\u001b[0m\u001b[1;33m.\u001b[0m\u001b[0mremove\u001b[0m\u001b[1;33m(\u001b[0m\u001b[1;34m'56.txt'\u001b[0m\u001b[1;33m)\u001b[0m\u001b[1;33m\u001b[0m\u001b[1;33m\u001b[0m\u001b[0m\n\u001b[0m",
      "\u001b[1;31mValueError\u001b[0m: list.remove(x): x not in list"
     ]
    }
   ],
   "source": [
    "lista_filenames.remove('44.txt')\n",
    "lista_filenames.remove('45.txt')"
   ]
  },
  {
   "cell_type": "code",
   "execution_count": 74,
   "metadata": {},
   "outputs": [],
   "source": [
    "lista_filenames.remove('46.txt')"
   ]
  },
  {
   "cell_type": "code",
   "execution_count": 75,
   "metadata": {},
   "outputs": [
    {
     "data": {
      "text/plain": [
       "['47.txt', '48.txt', '52.txt']"
      ]
     },
     "execution_count": 75,
     "metadata": {},
     "output_type": "execute_result"
    }
   ],
   "source": [
    "lista_filenames"
   ]
  },
  {
   "cell_type": "code",
   "execution_count": 76,
   "metadata": {},
   "outputs": [
    {
     "name": "stdout",
     "output_type": "stream",
     "text": [
      "Garbage Collected\n",
      "Garbage Collected\n",
      "Garbage Collected\n",
      "Garbage Collected\n"
     ]
    }
   ],
   "source": [
    "for filename in lista_filenames:\n",
    "    \n",
    "    plot = pd.read_csv(f'../../data/raw/sudden_death_patients/{filename}',sep=';')\n",
    "    plot.drop(columns = 'Unnamed: 0',inplace = True)\n",
    "    plot['time'] = (plot.index + 1) * 0.004\n",
    "    i = 0\n",
    "    total_length= int(df.loc[df['filename'] == filename,'image_number'].values[0])\n",
    "    random_numbers = []\n",
    "    while len(random_numbers) != 500:\n",
    "        x = random.randint(0,total_length)\n",
    "        if x in random_numbers:\n",
    "            pass\n",
    "        else:\n",
    "            random_numbers.append(x)   \n",
    "    for i in random_numbers:\n",
    "        row_min = int(i * 1250)\n",
    "        row_max = int((i + 1) * 1250)\n",
    "        time_min = int(row_min * 0.004)\n",
    "        time_max = int(row_max * 0.004)\n",
    "        plt.figure(figsize=[20,10])\n",
    "        line_plot = sns.lineplot(data = plot.iloc[row_min:row_max],x='time',y='0')\n",
    "        plt.axis('off')\n",
    "        fig = line_plot.get_figure()\n",
    "        fig.savefig(f'../../data/interim/validacao/sudden_death_patients/{filename}_{time_min}s-{time_max}s.png')\n",
    "        #fig.savefig(f'../../../sudden_death_validation_plus/{filename}_{time_min}s-{time_max}s.png')\n",
    "        plt.close(fig)\n",
    "        if (i == int(total_length * 0.1)) or (i == int(total_length * 0.2)) or (i == int(total_length * 0.3))\\\n",
    "        or (i == int(total_length * 0.4)) or (i == int(total_length * 0.5)) or (i == int(total_length * 0.6))\\\n",
    "        or (i == int(total_length * 0.7)) or (i == int(total_length * 0.8)) or (i == int(total_length * 0.9))\\\n",
    "        or (i == total_length - 1):\n",
    "            gc.collect()\n",
    "            print('Garbage Collected')"
   ]
  }
 ],
 "metadata": {
  "kernelspec": {
   "display_name": "Python 3",
   "language": "python",
   "name": "python3"
  }
 },
 "nbformat": 4,
 "nbformat_minor": 4
}
