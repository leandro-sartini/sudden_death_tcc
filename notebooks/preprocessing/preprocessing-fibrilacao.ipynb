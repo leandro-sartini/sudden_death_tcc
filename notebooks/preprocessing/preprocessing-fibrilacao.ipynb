{
 "cells": [
  {
   "cell_type": "code",
   "execution_count": 1,
   "metadata": {},
   "outputs": [],
   "source": [
    "import pandas as pd"
   ]
  },
  {
   "cell_type": "code",
   "execution_count": 4,
   "metadata": {},
   "outputs": [
    {
     "data": {
      "text/html": [
       "<div>\n",
       "<style scoped>\n",
       "    .dataframe tbody tr th:only-of-type {\n",
       "        vertical-align: middle;\n",
       "    }\n",
       "\n",
       "    .dataframe tbody tr th {\n",
       "        vertical-align: top;\n",
       "    }\n",
       "\n",
       "    .dataframe thead th {\n",
       "        text-align: right;\n",
       "    }\n",
       "</style>\n",
       "<table border=\"1\" class=\"dataframe\">\n",
       "  <thead>\n",
       "    <tr style=\"text-align: right;\">\n",
       "      <th></th>\n",
       "      <th>0.00000000e+00 5.25000000e-02 9.00000000e-02</th>\n",
       "    </tr>\n",
       "  </thead>\n",
       "  <tbody>\n",
       "    <tr>\n",
       "      <td>0</td>\n",
       "      <td>4.00000000e-03 5.12500000e-02 9.62500000e-02</td>\n",
       "    </tr>\n",
       "    <tr>\n",
       "      <td>1</td>\n",
       "      <td>8.00000000e-03 4.87500000e-02 1.02500000e-01</td>\n",
       "    </tr>\n",
       "    <tr>\n",
       "      <td>2</td>\n",
       "      <td>1.20000000e-02 4.37500000e-02 1.01250000e-01</td>\n",
       "    </tr>\n",
       "    <tr>\n",
       "      <td>3</td>\n",
       "      <td>1.60000000e-02 3.62500000e-02 1.02500000e-01</td>\n",
       "    </tr>\n",
       "    <tr>\n",
       "      <td>4</td>\n",
       "      <td>2.00000000e-02 2.87500000e-02 1.02500000e-01</td>\n",
       "    </tr>\n",
       "    <tr>\n",
       "      <td>...</td>\n",
       "      <td>...</td>\n",
       "    </tr>\n",
       "    <tr>\n",
       "      <td>2299244</td>\n",
       "      <td>9.19698000e+03 -9.50000000e-02 1.06250000e-01</td>\n",
       "    </tr>\n",
       "    <tr>\n",
       "      <td>2299245</td>\n",
       "      <td>9.19698400e+03 -1.01250000e-01 1.03750000e-01</td>\n",
       "    </tr>\n",
       "    <tr>\n",
       "      <td>2299246</td>\n",
       "      <td>9.19698800e+03 -1.02500000e-01 1.00000000e-01</td>\n",
       "    </tr>\n",
       "    <tr>\n",
       "      <td>2299247</td>\n",
       "      <td>9.19699200e+03 -1.01250000e-01 9.62500000e-02</td>\n",
       "    </tr>\n",
       "    <tr>\n",
       "      <td>2299248</td>\n",
       "      <td>9.19699600e+03 -9.87500000e-02 9.00000000e-02</td>\n",
       "    </tr>\n",
       "  </tbody>\n",
       "</table>\n",
       "<p>2299249 rows × 1 columns</p>\n",
       "</div>"
      ],
      "text/plain": [
       "           0.00000000e+00 5.25000000e-02 9.00000000e-02\n",
       "0          4.00000000e-03 5.12500000e-02 9.62500000e-02\n",
       "1          8.00000000e-03 4.87500000e-02 1.02500000e-01\n",
       "2          1.20000000e-02 4.37500000e-02 1.01250000e-01\n",
       "3          1.60000000e-02 3.62500000e-02 1.02500000e-01\n",
       "4          2.00000000e-02 2.87500000e-02 1.02500000e-01\n",
       "...                                                 ...\n",
       "2299244   9.19698000e+03 -9.50000000e-02 1.06250000e-01\n",
       "2299245   9.19698400e+03 -1.01250000e-01 1.03750000e-01\n",
       "2299246   9.19698800e+03 -1.02500000e-01 1.00000000e-01\n",
       "2299247   9.19699200e+03 -1.01250000e-01 9.62500000e-02\n",
       "2299248   9.19699600e+03 -9.87500000e-02 9.00000000e-02\n",
       "\n",
       "[2299249 rows x 1 columns]"
      ]
     },
     "execution_count": 4,
     "metadata": {},
     "output_type": "execute_result"
    }
   ],
   "source": [
    "pd.read_table('fibrilacao.txt',sep=';')"
   ]
  },
  {
   "cell_type": "code",
   "execution_count": null,
   "metadata": {},
   "outputs": [],
   "source": []
  }
 ],
 "metadata": {
  "kernelspec": {
   "display_name": "Python 3",
   "language": "python",
   "name": "python3"
  },
  "language_info": {
   "codemirror_mode": {
    "name": "ipython",
    "version": 3
   },
   "file_extension": ".py",
   "mimetype": "text/x-python",
   "name": "python",
   "nbconvert_exporter": "python",
   "pygments_lexer": "ipython3",
   "version": "3.7.4"
  }
 },
 "nbformat": 4,
 "nbformat_minor": 2
}
